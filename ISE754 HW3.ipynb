{
 "cells": [
  {
   "cell_type": "code",
   "execution_count": 1,
   "id": "07a1deea",
   "metadata": {},
   "outputs": [],
   "source": [
    "import numpy as np"
   ]
  },
  {
   "cell_type": "markdown",
   "id": "2ab91964",
   "metadata": {},
   "source": [
    "# Problem 2"
   ]
  },
  {
   "cell_type": "code",
   "execution_count": 29,
   "id": "086a94ee",
   "metadata": {},
   "outputs": [
    {
     "name": "stdout",
     "output_type": "stream",
     "text": [
      "Optimal distances and predecessors from node B:\n",
      "[array([ 61.,   0.,  68.,  46., 111.,  76., 128., 102.])] ['B', 'B', 'B', 'B', 'C', 'D', 'C', 'F'] \n",
      "\n",
      "Optimal distances and predecessors from node C:\n",
      "[array([ 30.,  68.,   0.,  97.,  43., 109.,  60., 135.])] ['C', 'C', 'C', 'C', 'C', 'E', 'C', 'F'] \n",
      "\n",
      "Optimal distances and predecessors from node D:\n",
      "[array([107.,  46.,  97.,   0.,  73.,  30.,  95.,  56.])] ['B', 'D', 'D', 'D', 'D', 'D', 'E', 'F'] \n",
      "\n",
      "Optimal distances and predecessors from node E:\n",
      "[array([ 73., 111.,  43.,  73.,   0.,  66.,  22.,  92.])] ['C', 'C', 'E', 'E', 'E', 'E', 'E', 'F'] \n",
      "\n"
     ]
    }
   ],
   "source": [
    "nodes = ['A', 'B', 'C', 'D', 'E', 'F', 'G', 'H']\n",
    "p2_distances = np.array([[0, 61, 30, np.inf, np.inf, np.inf, np.inf, np.inf],\n",
    "                      [61, 0, 68, 46, np.inf, np.inf, np.inf, np.inf],\n",
    "                      [30, 68, 0, 97, 43, np.inf, 60, np.inf],\n",
    "                      [np.inf, 46, 97, 0, 73, 30, np.inf, np.inf],\n",
    "                      [np.inf, np.inf, 43, 73, 0, 66, 22, np.inf],\n",
    "                      [np.inf, np.inf, np.inf, 30, 66, 0, 70, 26],\n",
    "                      [np.inf, np.inf, 60, np.inf, 22, 70, 0, 80],\n",
    "                      [np.inf, np.inf, np.inf, np.inf, np.inf, 26, 80, 0]])\n",
    "\n",
    "\n",
    "\n",
    "def djikstra(nodes, distances, root):\n",
    "    predecessors = [0] * distances.shape[1]\n",
    "    root_distances = [distances[nodes.index(root)][:]]\n",
    "    for i in range(distances.shape[1]):\n",
    "        if distances [nodes.index(root)][i] != np.inf:\n",
    "            predecessors[i] = root\n",
    "        for j in range(distances.shape[1]):\n",
    "            if distances[nodes.index(root)][j] + distances[j][i] < distances[nodes.index(root)][i]:\n",
    "                predecessors[i] = nodes[j]\n",
    "                root_distances[0][i] = distances[nodes.index(root)][j] + distances[j][i]\n",
    "\n",
    "    return root_distances, predecessors\n",
    "\n",
    "for node in ['B', 'C', 'D', 'E']:\n",
    "    print(f\"Optimal distances and predecessors from node {node}:\")\n",
    "    opt_dist, pred = djikstra(nodes, p2_distances, node)\n",
    "    print(opt_dist, pred, \"\\n\")\n"
   ]
  },
  {
   "cell_type": "markdown",
   "id": "00f04aa6",
   "metadata": {},
   "source": [
    "# Problem 3"
   ]
  },
  {
   "cell_type": "code",
   "execution_count": 32,
   "id": "89def74e",
   "metadata": {},
   "outputs": [
    {
     "data": {
      "text/plain": [
       "([array([12.,  6., 20.,  0., 14.,  5., 13., 22.])],\n",
       " ['F', 'D', 'E', 'D', 'D', 'D', 'D', 'E'])"
      ]
     },
     "execution_count": 32,
     "metadata": {},
     "output_type": "execute_result"
    }
   ],
   "source": [
    "p3_distances = np.array([[0, 20, np.inf, 15, np.inf, 7, np.inf, np.inf],\n",
    "                         [20, 0, 15, 6, 9, np.inf, np.inf, np.inf],\n",
    "                         [np.inf, 15, 0, np.inf, 6, np.inf, np.inf, 12],\n",
    "                         [15, 6, np.inf, 0, 14, 5, 13, np.inf],\n",
    "                         [np.inf, 9, 6, 14, 0, np.inf, 14, 8],\n",
    "                         [7, np.inf, np.inf, 5, np.inf, 0, 20, np.inf],\n",
    "                         [np.inf, np.inf, np.inf, 13, 14, 20, 0, 20],\n",
    "                         [np.inf, np.inf, 12, np.inf, 8, np.inf, 20, 0]])\n",
    "\n",
    "djikstra(nodes, p3_distances, 'D')"
   ]
  },
  {
   "cell_type": "code",
   "execution_count": null,
   "id": "01f64f01",
   "metadata": {},
   "outputs": [],
   "source": []
  }
 ],
 "metadata": {
  "kernelspec": {
   "display_name": "base",
   "language": "python",
   "name": "python3"
  },
  "language_info": {
   "codemirror_mode": {
    "name": "ipython",
    "version": 3
   },
   "file_extension": ".py",
   "mimetype": "text/x-python",
   "name": "python",
   "nbconvert_exporter": "python",
   "pygments_lexer": "ipython3",
   "version": "3.10.10"
  }
 },
 "nbformat": 4,
 "nbformat_minor": 5
}
