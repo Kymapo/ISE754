{
 "cells": [
  {
   "cell_type": "code",
   "execution_count": 1,
   "id": "07a1deea",
   "metadata": {},
   "outputs": [],
   "source": [
    "import numpy as np\n",
    "from gurobipy import Model, GRB, quicksum"
   ]
  },
  {
   "cell_type": "markdown",
   "id": "ec0e6fb4",
   "metadata": {},
   "source": [
    "# Problem 1\n",
    "\n",
    "This is not my solution, this solver was to check it. My proper solution is submitted as another file."
   ]
  },
  {
   "cell_type": "code",
   "execution_count": 42,
   "id": "fd09d79c",
   "metadata": {},
   "outputs": [],
   "source": [
    "c_ij = np.array([[15, 10, 8, 12], # Rows DCs (supply), columns stores (demand)\n",
    "        [9, 11, 7, 5],\n",
    "        [13, 14, 3, 4]])\n",
    "supply = [200, 150, 225]\n",
    "demand = [140, 130, 165, 100]"
   ]
  },
  {
   "cell_type": "code",
   "execution_count": 41,
   "id": "26ac154d",
   "metadata": {},
   "outputs": [
    {
     "name": "stdout",
     "output_type": "stream",
     "text": [
      "Restricted license - for non-production use only - expires 2026-11-23\n",
      "Gurobi Optimizer version 12.0.3 build v12.0.3rc0 (win64 - Windows 11.0 (26100.2))\n",
      "\n",
      "CPU model: AMD Ryzen 5 5625U with Radeon Graphics, instruction set [SSE2|AVX|AVX2]\n",
      "Thread count: 6 physical cores, 12 logical processors, using up to 12 threads\n",
      "\n",
      "Optimize a model with 7 rows, 12 columns and 24 nonzeros\n",
      "Model fingerprint: 0x7fdde0d1\n",
      "Coefficient statistics:\n",
      "  Matrix range     [1e+00, 1e+00]\n",
      "  Objective range  [3e+00, 2e+01]\n",
      "  Bounds range     [0e+00, 0e+00]\n",
      "  RHS range        [1e+02, 2e+02]\n",
      "Presolve time: 0.02s\n",
      "Presolved: 7 rows, 12 columns, 24 nonzeros\n",
      "\n",
      "Iteration    Objective       Primal Inf.    Dual Inf.      Time\n",
      "       0    3.4550000e+03   4.000000e+01   0.000000e+00      0s\n",
      "       2    3.6150000e+03   0.000000e+00   0.000000e+00      0s\n",
      "\n",
      "Solved in 2 iterations and 0.03 seconds (0.00 work units)\n",
      "Optimal objective  3.615000000e+03\n",
      "X[0,0]: 0.0\n",
      "X[0,1]: 130.0\n",
      "X[0,2]: 30.0\n",
      "X[0,3]: 0.0\n",
      "X[1,0]: 140.0\n",
      "X[1,1]: 0.0\n",
      "X[1,2]: 0.0\n",
      "X[1,3]: 10.0\n",
      "X[2,0]: 0.0\n",
      "X[2,1]: 0.0\n",
      "X[2,2]: 135.0\n",
      "X[2,3]: 90.0\n"
     ]
    }
   ],
   "source": [
    "model = Model(\"Shipping Problem\")\n",
    "X = model.addVars(len(supply), len(demand), name=\"X\", lb=0)\n",
    "model.setObjective(\n",
    "    quicksum(c_ij[i][j] * X[i, j] for i in range(len(supply)) for j in range(len(demand))),\n",
    "    GRB.MINIMIZE\n",
    ")\n",
    "for i in range(len(supply)):\n",
    "    model.addConstr(quicksum(X[i, j] for j in range(len(demand))) <= supply[i], name=f\"supply_{i}\")\n",
    "for j in range(len(demand)):\n",
    "    model.addConstr(quicksum(X[i, j] for i in range(len(supply))) == demand[j], name=f\"demand_{j}\")\n",
    "\n",
    "model.optimize()\n",
    "for v in model.getVars():\n",
    "    print(f\"{v.varName}: {v.x}\")"
   ]
  },
  {
   "cell_type": "markdown",
   "id": "2ab91964",
   "metadata": {},
   "source": [
    "# Problem 2"
   ]
  },
  {
   "cell_type": "code",
   "execution_count": 29,
   "id": "086a94ee",
   "metadata": {},
   "outputs": [
    {
     "name": "stdout",
     "output_type": "stream",
     "text": [
      "Optimal distances and predecessors from node B:\n",
      "[array([ 61.,   0.,  68.,  46., 111.,  76., 128., 102.])] ['B', 'B', 'B', 'B', 'C', 'D', 'C', 'F'] \n",
      "\n",
      "Optimal distances and predecessors from node C:\n",
      "[array([ 30.,  68.,   0.,  97.,  43., 109.,  60., 135.])] ['C', 'C', 'C', 'C', 'C', 'E', 'C', 'F'] \n",
      "\n",
      "Optimal distances and predecessors from node D:\n",
      "[array([107.,  46.,  97.,   0.,  73.,  30.,  95.,  56.])] ['B', 'D', 'D', 'D', 'D', 'D', 'E', 'F'] \n",
      "\n",
      "Optimal distances and predecessors from node E:\n",
      "[array([ 73., 111.,  43.,  73.,   0.,  66.,  22.,  92.])] ['C', 'C', 'E', 'E', 'E', 'E', 'E', 'F'] \n",
      "\n"
     ]
    }
   ],
   "source": [
    "nodes = ['A', 'B', 'C', 'D', 'E', 'F', 'G', 'H']\n",
    "p2_distances = np.array([[0, 61, 30, np.inf, np.inf, np.inf, np.inf, np.inf],\n",
    "                      [61, 0, 68, 46, np.inf, np.inf, np.inf, np.inf],\n",
    "                      [30, 68, 0, 97, 43, np.inf, 60, np.inf],\n",
    "                      [np.inf, 46, 97, 0, 73, 30, np.inf, np.inf],\n",
    "                      [np.inf, np.inf, 43, 73, 0, 66, 22, np.inf],\n",
    "                      [np.inf, np.inf, np.inf, 30, 66, 0, 70, 26],\n",
    "                      [np.inf, np.inf, 60, np.inf, 22, 70, 0, 80],\n",
    "                      [np.inf, np.inf, np.inf, np.inf, np.inf, 26, 80, 0]])\n",
    "\n",
    "\n",
    "\n",
    "def djikstra(nodes, distances, root):\n",
    "    predecessors = [0] * distances.shape[1]\n",
    "    root_distances = [distances[nodes.index(root)][:]]\n",
    "    for i in range(distances.shape[1]):\n",
    "        if distances [nodes.index(root)][i] != np.inf:\n",
    "            predecessors[i] = root\n",
    "        for j in range(distances.shape[1]):\n",
    "            if distances[nodes.index(root)][j] + distances[j][i] < distances[nodes.index(root)][i]:\n",
    "                predecessors[i] = nodes[j]\n",
    "                root_distances[0][i] = distances[nodes.index(root)][j] + distances[j][i]\n",
    "\n",
    "    return root_distances, predecessors\n",
    "\n",
    "for node in ['B', 'C', 'D', 'E']:\n",
    "    print(f\"Optimal distances and predecessors from node {node}:\")\n",
    "    opt_dist, pred = djikstra(nodes, p2_distances, node)\n",
    "    print(opt_dist, pred, \"\\n\")\n"
   ]
  },
  {
   "cell_type": "markdown",
   "id": "00f04aa6",
   "metadata": {},
   "source": [
    "# Problem 3"
   ]
  },
  {
   "cell_type": "code",
   "execution_count": 32,
   "id": "89def74e",
   "metadata": {},
   "outputs": [
    {
     "data": {
      "text/plain": [
       "([array([12.,  6., 20.,  0., 14.,  5., 13., 22.])],\n",
       " ['F', 'D', 'E', 'D', 'D', 'D', 'D', 'E'])"
      ]
     },
     "execution_count": 32,
     "metadata": {},
     "output_type": "execute_result"
    }
   ],
   "source": [
    "p3_distances = np.array([[0, 20, np.inf, 15, np.inf, 7, np.inf, np.inf],\n",
    "                         [20, 0, 15, 6, 9, np.inf, np.inf, np.inf],\n",
    "                         [np.inf, 15, 0, np.inf, 6, np.inf, np.inf, 12],\n",
    "                         [15, 6, np.inf, 0, 14, 5, 13, np.inf],\n",
    "                         [np.inf, 9, 6, 14, 0, np.inf, 14, 8],\n",
    "                         [7, np.inf, np.inf, 5, np.inf, 0, 20, np.inf],\n",
    "                         [np.inf, np.inf, np.inf, 13, 14, 20, 0, 20],\n",
    "                         [np.inf, np.inf, 12, np.inf, 8, np.inf, 20, 0]])\n",
    "\n",
    "djikstra(nodes, p3_distances, 'D')"
   ]
  },
  {
   "cell_type": "markdown",
   "id": "92034df2",
   "metadata": {},
   "source": [
    "If we compare these results to the V8 and P8 matrices in the lecture notes, we can see that the values match exactly. The fourth column of V8 is exactly the distance vector above. This makes sense because it represents going from anby node (row) to the fourth node D (column). And the fourth row of P8 is exactly the predecessor vector above. This makes sense because if we start at D and move away, then the predecessor will be the last node visited before arriving."
   ]
  }
 ],
 "metadata": {
  "kernelspec": {
   "display_name": "base",
   "language": "python",
   "name": "python3"
  },
  "language_info": {
   "codemirror_mode": {
    "name": "ipython",
    "version": 3
   },
   "file_extension": ".py",
   "mimetype": "text/x-python",
   "name": "python",
   "nbconvert_exporter": "python",
   "pygments_lexer": "ipython3",
   "version": "3.10.10"
  }
 },
 "nbformat": 4,
 "nbformat_minor": 5
}
