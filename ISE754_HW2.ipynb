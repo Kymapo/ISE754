{
  "cells": [
    {
      "cell_type": "markdown",
      "id": "b8c36222",
      "metadata": {
        "id": "b8c36222"
      },
      "source": [
        "# Problem 1a)\n",
        "### ADD Algorithm"
      ]
    },
    {
      "cell_type": "code",
      "execution_count": null,
      "id": "7355d394",
      "metadata": {
        "id": "7355d394",
        "outputId": "4f671436-bddf-47df-bdaf-d1cfa55eb3e9"
      },
      "outputs": [
        {
          "name": "stdout",
          "output_type": "stream",
          "text": [
            "[[  0.  80. 128.  80.  96. 128.]\n",
            " [100.   0.  60.  70. 160. 130.]\n",
            " [ 96.  36.   0.  42.  96.  54.]\n",
            " [ 50.  35.  35.   0.  45.  30.]\n",
            " [108. 144. 144.  81.   0.  81.]\n",
            " [160. 130.  90.  60.  90.   0.]]\n",
            "[np.float64(554.0), np.float64(525.0), np.float64(507.0), np.float64(448.0), np.float64(557.0), np.float64(523.0)]\n"
          ]
        }
      ],
      "source": [
        "import numpy as np\n",
        "\n",
        "nodes = ['A','B','C','D','E','F']\n",
        "f0 = [40, 100, 50, 115, 70, 100] # fixed costs\n",
        "f=f0.copy()\n",
        "h = [8, 10, 6, 5, 9, 10] # demand\n",
        "\n",
        "\n",
        "c = {(0,0): 0 , (0,1): 10, (0,2): 16, (0,3): 10, (0,4): 12, (0,5): 16,\n",
        "     (1,0): 10, (1,1): 0 , (1,2): 6 , (1,3): 7 , (1,4): 16, (1,5): 13,\n",
        "     (2,0): 16, (2,1): 6 , (2,2): 0 , (2,3): 7 , (2,4): 16, (2,5): 9 ,\n",
        "     (3,0): 10, (3,1): 7 , (3,2): 7 , (3,3): 0 , (3,4): 9 , (3,5): 6 ,\n",
        "     (4,0): 12, (4,1): 16, (4,2): 16, (4,3): 9 , (4,4): 0 , (4,5): 9 ,\n",
        "     (5,0): 16, (5,1): 13, (5,2): 9 , (5,3): 6 , (5,4): 9 , (5,5): 0 } # transportation distances * cost per unit demand (=1)\n",
        "\n",
        "\n",
        "weighted_demand = np.zeros((6,6))\n",
        "for i in range(6):\n",
        "\tfor j in range(6):\n",
        "\t\tweighted_demand[i, j] = c[(i, j)] * h[i]\n",
        "print(weighted_demand)\n",
        "\n",
        "totals = [sum(weighted_demand[:,i]) * 1 + f[i] for i in range(6)]\n",
        "print(totals)"
      ]
    },
    {
      "cell_type": "code",
      "execution_count": null,
      "id": "f540d7a8",
      "metadata": {
        "id": "f540d7a8",
        "outputId": "4f27dbfa-c397-46a1-cf58-4ee66f35ec24"
      },
      "outputs": [
        {
          "name": "stdout",
          "output_type": "stream",
          "text": [
            "Optimal location is at location: D with cost: 448.0\n"
          ]
        }
      ],
      "source": [
        "facilities_to_open = [nodes[np.argmin(totals)]]\n",
        "print(\"Optimal location is at location:\", nodes[np.argmin(totals)], \"with cost:\", min(totals))"
      ]
    },
    {
      "cell_type": "code",
      "execution_count": null,
      "id": "d4c0cdd9",
      "metadata": {
        "id": "d4c0cdd9",
        "outputId": "c2e7038d-13da-4ed0-86b0-c5d8f30ac35f"
      },
      "outputs": [
        {
          "name": "stdout",
          "output_type": "stream",
          "text": [
            "[[ 0. 80. 80. 80. 80. 80.]\n",
            " [70.  0. 60. 70. 70. 70.]\n",
            " [42. 36.  0. 42. 42. 42.]\n",
            " [ 0.  0.  0.  0.  0.  0.]\n",
            " [81. 81. 81. 81.  0. 81.]\n",
            " [60. 60. 60. 60. 60.  0.]]\n",
            "[155, 215, 165, 115, 185, 215]\n",
            "[np.float64(408.0), np.float64(472.0), np.float64(446.0), np.float64(448.0), np.float64(437.0), np.float64(488.0)]\n"
          ]
        }
      ],
      "source": [
        "weighted_demand[np.argmin(totals),:] = 0\n",
        "\n",
        "## Update all distances that are closer to the new facility than node i\n",
        "weighted_demand[0,2] = h[0]*c[(0,3)]\n",
        "weighted_demand[0,4] = h[0]*c[(0,3)]\n",
        "weighted_demand[0,5] = h[0]*c[(0,3)]\n",
        "weighted_demand[1,0] = h[1]*c[(1,3)]\n",
        "weighted_demand[1,4] = h[1]*c[(1,3)]\n",
        "weighted_demand[1,5] = h[1]*c[(1,3)]\n",
        "weighted_demand[2,0] = h[2]*c[(2,3)]\n",
        "weighted_demand[2,4] = h[2]*c[(2,3)]\n",
        "weighted_demand[2,5] = h[2]*c[(2,3)]\n",
        "weighted_demand[4,0] = h[4]*c[(4,3)]\n",
        "weighted_demand[4,1] = h[4]*c[(4,3)]\n",
        "weighted_demand[4,2] = h[4]*c[(4,3)]\n",
        "weighted_demand[5,0] = h[5]*c[(5,3)]\n",
        "weighted_demand[5,1] = h[5]*c[(5,3)]\n",
        "weighted_demand[5,2] = h[5]*c[(5,3)]\n",
        "weighted_demand[5,4] = h[5]*c[(5,3)]\n",
        "print(weighted_demand)\n",
        "for i in range(6):\n",
        "    if nodes[i] == facilities_to_open[-1]:\n",
        "        continue\n",
        "    f[i] += f[np.argmin(totals)]\n",
        "print(f)\n",
        "totals = [sum(weighted_demand[:,i]) * 1 + f[i] for i in range(6)]\n",
        "print(totals)"
      ]
    },
    {
      "cell_type": "code",
      "execution_count": null,
      "id": "d723f72b",
      "metadata": {
        "id": "d723f72b",
        "outputId": "f05e6457-2c50-4c7e-da88-c78939718ef9"
      },
      "outputs": [
        {
          "name": "stdout",
          "output_type": "stream",
          "text": [
            "Next optimal location is at location: A with cost: 408.0\n"
          ]
        }
      ],
      "source": [
        "facilities_to_open.append(nodes[np.argmin(totals)])\n",
        "print(\"Next optimal location is at location:\", nodes[np.argmin(totals)], \"with cost:\", min(totals))"
      ]
    },
    {
      "cell_type": "code",
      "execution_count": null,
      "id": "7b632ea5",
      "metadata": {
        "id": "7b632ea5",
        "outputId": "9472eb51-ac1d-45c7-cb1c-1a17357cf749"
      },
      "outputs": [
        {
          "name": "stdout",
          "output_type": "stream",
          "text": [
            "[[ 0.  0.  0.  0.  0.  0.]\n",
            " [70.  0. 60. 70. 70. 70.]\n",
            " [42. 36.  0. 42. 42. 42.]\n",
            " [ 0.  0.  0.  0.  0.  0.]\n",
            " [81. 81. 81. 81.  0. 81.]\n",
            " [60. 60. 60. 60. 60.  0.]]\n",
            "[155, 370, 320, 270, 340, 370]\n",
            "[np.float64(408.0), np.float64(547.0), np.float64(521.0), np.float64(523.0), np.float64(512.0), np.float64(563.0)]\n"
          ]
        }
      ],
      "source": [
        "weighted_demand[np.argmin(totals),:] = 0\n",
        "## No distances to update this step\n",
        "print(weighted_demand)\n",
        "for i in range(6):\n",
        "    if nodes[i] == facilities_to_open[-1]:\n",
        "        continue\n",
        "    f[i] += f[np.argmin(totals)]\n",
        "print(f)\n",
        "totals = [sum(weighted_demand[:,i]) * 1 + f[i] for i in range(6)]\n",
        "print(totals)"
      ]
    },
    {
      "cell_type": "markdown",
      "id": "7ff76bf5",
      "metadata": {
        "id": "7ff76bf5"
      },
      "source": [
        "Now that we have no new facilities that give us a better objective value, we stop. So our optimal facility locations are"
      ]
    },
    {
      "cell_type": "code",
      "execution_count": null,
      "id": "0f606135",
      "metadata": {
        "id": "0f606135",
        "outputId": "7bdf2721-6463-42c7-b418-c4d1b41c504e"
      },
      "outputs": [
        {
          "name": "stdout",
          "output_type": "stream",
          "text": [
            "['D', 'A']\n"
          ]
        }
      ],
      "source": [
        "print(facilities_to_open)"
      ]
    },
    {
      "cell_type": "markdown",
      "id": "e48176d1",
      "metadata": {
        "id": "e48176d1"
      },
      "source": [
        "Locations D and A, with a total cost of \\$408. The total fixed facility location costs is \\$115 + \\$40 = \\$155, which means the total transportation cost is \\$408 - \\$155 = \\$253."
      ]
    },
    {
      "cell_type": "code",
      "execution_count": null,
      "id": "79f42b3b",
      "metadata": {
        "id": "79f42b3b"
      },
      "outputs": [],
      "source": []
    },
    {
      "cell_type": "markdown",
      "id": "c36c8ed0",
      "metadata": {
        "id": "c36c8ed0"
      },
      "source": [
        "## Problem 1b)\n",
        "### IP Solver"
      ]
    },
    {
      "cell_type": "code",
      "execution_count": null,
      "id": "6f60dce9",
      "metadata": {
        "id": "6f60dce9",
        "outputId": "8abd232b-309c-42bd-9247-7ef00cf67589"
      },
      "outputs": [
        {
          "name": "stdout",
          "output_type": "stream",
          "text": [
            "Set parameter Username\n",
            "Academic license - for non-commercial use only - expires 2026-09-20\n",
            "Gurobi Optimizer version 12.0.3 build v12.0.3rc0 (win64 - Windows 11.0 (26100.2))\n",
            "\n",
            "CPU model: 13th Gen Intel(R) Core(TM) i7-13700, instruction set [SSE2|AVX|AVX2]\n",
            "Thread count: 16 physical cores, 24 logical processors, using up to 24 threads\n",
            "\n",
            "Optimize a model with 42 rows, 42 columns and 108 nonzeros\n",
            "Model fingerprint: 0x47c0ba55\n",
            "Variable types: 36 continuous, 6 integer (6 binary)\n",
            "Coefficient statistics:\n",
            "  Matrix range     [1e+00, 1e+00]\n",
            "  Objective range  [3e+01, 2e+02]\n",
            "  Bounds range     [1e+00, 1e+00]\n",
            "  RHS range        [1e+00, 1e+00]\n",
            "Presolve time: 0.00s\n",
            "Presolved: 42 rows, 42 columns, 108 nonzeros\n",
            "Variable types: 36 continuous, 6 integer (6 binary)\n",
            "Found heuristic solution: objective 475.0000000\n",
            "Found heuristic solution: objective 435.0000000\n",
            "\n",
            "Root relaxation: objective 3.450000e+02, 11 iterations, 0.00 seconds (0.00 work units)\n",
            "\n",
            "    Nodes    |    Current Node    |     Objective Bounds      |     Work\n",
            " Expl Unexpl |  Obj  Depth IntInf | Incumbent    BestBd   Gap | It/Node Time\n",
            "\n",
            "*    0     0               0     345.0000000  345.00000  0.00%     -    0s\n",
            "\n",
            "Explored 1 nodes (11 simplex iterations) in 0.01 seconds (0.00 work units)\n",
            "Thread count was 24 (of 24 available processors)\n",
            "\n",
            "Solution count 3: 345 435 475 \n",
            "\n",
            "Optimal solution found (tolerance 1.00e-04)\n",
            "Best objective 3.450000000000e+02, best bound 3.450000000000e+02, gap 0.0000%\n"
          ]
        }
      ],
      "source": [
        "from gurobipy import Model, GRB, quicksum\n",
        "\n",
        "I = [i for i in range(6)]\n",
        "J = [j for j in range(6)]\n",
        "IJ = [(i,j) for i in I for j in J]\n",
        "\n",
        "\n",
        "model = Model(\"UFLP_1b\")\n",
        "x = model.addVars(J, vtype=GRB.BINARY)\n",
        "y = model.addVars(IJ, vtype=GRB.CONTINUOUS, lb=0)\n",
        "\n",
        "model.setObjective(quicksum(f0[j]*x[j] for j in J) + quicksum(h[i]*c[i,j]*y[i,j] for (i,j) in IJ), GRB.MINIMIZE)\n",
        "model.addConstrs((quicksum(y[i,j] for j in J) == 1 for i in I))\n",
        "model.addConstrs((y[i,j] <= x[j] for (i,j) in IJ))\n",
        "model.update()\n",
        "model.optimize()"
      ]
    },
    {
      "cell_type": "code",
      "execution_count": null,
      "id": "dede97ab",
      "metadata": {
        "id": "dede97ab",
        "outputId": "ec34a899-5065-4b04-b733-fb13c1e97e11"
      },
      "outputs": [
        {
          "data": {
            "text/plain": [
              "{0: <gurobi.Var C0 (value 1.0)>,\n",
              " 1: <gurobi.Var C1 (value -0.0)>,\n",
              " 2: <gurobi.Var C2 (value 1.0)>,\n",
              " 3: <gurobi.Var C3 (value -0.0)>,\n",
              " 4: <gurobi.Var C4 (value 1.0)>,\n",
              " 5: <gurobi.Var C5 (value -0.0)>}"
            ]
          },
          "execution_count": 8,
          "metadata": {},
          "output_type": "execute_result"
        }
      ],
      "source": [
        "x\n",
        "\n",
        "#y"
      ]
    },
    {
      "cell_type": "markdown",
      "id": "e03ead37",
      "metadata": {
        "id": "e03ead37"
      },
      "source": [
        "The IP Solver finds a solution of opening facilities A, C, and E, with an objective cost of \\$345. This gives a total fixed facility cost of \\$160, and a total transportation cost of \\$185."
      ]
    },
    {
      "cell_type": "code",
      "execution_count": null,
      "id": "347e9a0d",
      "metadata": {
        "id": "347e9a0d"
      },
      "outputs": [],
      "source": []
    },
    {
      "cell_type": "markdown",
      "id": "51ce56b5",
      "metadata": {
        "id": "51ce56b5"
      },
      "source": [
        "## Problem 1c)\n",
        "### Lagrangian Relaxation"
      ]
    },
    {
      "cell_type": "code",
      "execution_count": null,
      "id": "77db2bc7",
      "metadata": {
        "id": "77db2bc7",
        "outputId": "3bcacc64-0897-4dfa-e480-7e5c893fc1e8"
      },
      "outputs": [
        {
          "name": "stdout",
          "output_type": "stream",
          "text": [
            "--- Iteration 0 ---\n",
            "LB: -23036.000000000015\n",
            "UB: 475.0\n",
            "Step size: 156.7400000000001\n",
            "Updated lambdas: {0: '87.97', 1: '87.97', 2: '87.97', 3: '87.97', 4: '87.97', 5: '87.97'}\n",
            "--- Iteration 1 ---\n",
            "LB: -5.4999999999936335\n",
            "UB: 475.0\n",
            "Step size: 10.223404255319014\n",
            "Updated lambdas: {0: '67.52', 1: '67.52', 2: '57.30', 3: '36.85', 4: '67.52', 5: '77.74'}\n",
            "--- Iteration 2 ---\n",
            "LB: 330.2631205673755\n",
            "UB: 383.0\n",
            "Step size: 26.368439716312253\n",
            "Updated lambdas: {0: '67.52', 1: '67.52', 2: '57.30', 3: '36.85', 4: '93.89', 5: '104.11'}\n",
            "--- Iteration 3 ---\n",
            "LB: 303.74219858156016\n",
            "UB: 350.0\n",
            "Step size: 6.608257345491405\n",
            "Updated lambdas: {0: '67.52', 1: '67.52', 2: '50.69', 3: '30.24', 4: '87.28', 5: '90.90'}\n",
            "--- Iteration 4 ---\n",
            "LB: 339.34620060790303\n",
            "UB: 345.0\n",
            "Step size: 2.8268996960484856\n",
            "Updated lambdas: {0: '67.52', 1: '67.52', 2: '50.69', 3: '33.07', 4: '87.28', 5: '88.07'}\n",
            "--- Iteration 5 ---\n",
            "LB: 341.1365754812564\n",
            "UB: 345.0\n",
            "Step size: 1.9317122593718068\n",
            "Updated lambdas: {0: '67.52', 1: '67.52', 2: '50.69', 3: '35.00', 4: '87.28', 5: '90.00'}\n",
            "--- Iteration 6 ---\n",
            "LB: 343.7199594731509\n",
            "UB: 350.0\n",
            "Step size: 3.14002026342456\n",
            "Updated lambdas: {0: '67.52', 1: '67.52', 2: '50.69', 3: '31.86', 4: '84.14', 5: '90.00'}\n",
            "--- Iteration 7 ---\n",
            "LB: 341.8599797365755\n",
            "UB: 345.0\n",
            "Step size: 1.5700101317122517\n",
            "Updated lambdas: {0: '67.52', 1: '67.52', 2: '50.69', 3: '33.43', 4: '84.14', 5: '91.57'}\n",
            "--- Iteration 8 ---\n",
            "LB: 341.8599797365755\n",
            "UB: 345.0\n",
            "Step size: 1.5700101317122517\n",
            "Updated lambdas: {0: '67.52', 1: '67.52', 2: '50.69', 3: '35.00', 4: '84.14', 5: '90.00'}\n",
            "--- Iteration 9 ---\n",
            "LB: 345.0\n",
            "UB: 345.0\n",
            "Step size: 0.0\n",
            "Updated lambdas: {0: '67.52', 1: '67.52', 2: '50.69', 3: '35.00', 4: '84.14', 5: '90.00'}\n",
            "Converged from gap < 1.\n",
            "\n",
            "=== FINAL RESULTS ===\n",
            "Lower Bound: 345.00\n",
            "Upper Bound: 345.00\n",
            "Gap: 0.00\n",
            "Final facility locations: [0, 2, 4]\n",
            "Final feasible assignments:\n",
            "  Customer 0 -> Facility 0\n",
            "  Customer 1 -> Facility 2\n",
            "  Customer 2 -> Facility 2\n",
            "  Customer 3 -> Facility 2\n",
            "  Customer 4 -> Facility 4\n",
            "  Customer 5 -> Facility 2\n"
          ]
        }
      ],
      "source": [
        "def lr_ucflp(f0, c, h, I, J, max_iter=50):\n",
        "    avg_demand = np.mean(h)\n",
        "    avg_fixed = np.mean(f0)\n",
        "\n",
        "    lam_vals = {i: 10*(avg_demand + avg_fixed) for i in I}\n",
        "\n",
        "    alpha = 1.0\n",
        "\n",
        "    for iter in range(max_iter):\n",
        "        print(\"--- Iteration {} ---\".format(iter))\n",
        "\n",
        "        Y = {(i,j): 0 for i in I for j in J}\n",
        "        X = {}\n",
        "        V = {}\n",
        "\n",
        "\n",
        "        for j in J:\n",
        "            V[j] = f0[j] + sum(min(0, alpha * h[i] * c[(i,j)] - lam_vals[i]) for i in I)\n",
        "            X[j] = 1 if V[j] < 0 else 0\n",
        "            for i in I:\n",
        "                Y[(i,j)] = 1 if (X[j] == 1 and alpha * h[i] * c[(i,j)] - lam_vals[i] < 0) else 0\n",
        "\n",
        "\n",
        "        l_bound = sum(f0[j]*X[j] for j in J) + sum((alpha * h[i] * c[(i,j)] - lam_vals[i]) * Y[(i,j)] for i in I for j in J) + sum(lam_vals[i] for i in I)\n",
        "        print(\"LB:\", l_bound)\n",
        "\n",
        "        # Claude helped me with this part\n",
        "        ##########################\n",
        "        open_facilities = [j for j in J if X[j] == 1]\n",
        "        if len(open_facilities) == 0:\n",
        "             min_vj = min(V.values())\n",
        "             best_facility = [j for j in J if V[j] == min_vj][0]\n",
        "             X[best_facility] = 1\n",
        "             open_facilities = [best_facility]\n",
        "\n",
        "        Y_feasible = {(i,j): 0 for i in I for j in J}\n",
        "        for i in I:\n",
        "             best_cost = float('inf')\n",
        "             best_facility = None\n",
        "             for j in open_facilities:\n",
        "                cost = h[i] * c[(i,j)]\n",
        "                if cost < best_cost:\n",
        "                    best_cost = cost\n",
        "                    best_facility = j\n",
        "             if best_facility is not None:\n",
        "                Y_feasible[(i, best_facility)] = 1\n",
        "        ##########################\n",
        "\n",
        "        u_bound = sum(f0[j] * X[j] for j in J) + alpha * sum(h[i] * c[(i,j)] * Y_feasible[(i,j)] for i in I for j in J)\n",
        "        print(\"UB:\", u_bound)\n",
        "\n",
        "        violations_sq = 0\n",
        "        violations = {}\n",
        "        for i in I:\n",
        "            violation = 1 - sum(Y[(i,j)] for j in J)\n",
        "            violations[i] = violation\n",
        "            violations_sq += violation**2\n",
        "\n",
        "        if violations_sq > 0:\n",
        "            step_size = (u_bound - l_bound) / violations_sq\n",
        "        else:\n",
        "            step_size = 0\n",
        "            print(\"No constraints violated, optimal solution found.\")\n",
        "            break\n",
        "\n",
        "        print(\"Step size:\", step_size)\n",
        "\n",
        "        for i in I:\n",
        "            lam_vals[i] = max(0, lam_vals[i] + step_size * violations[i])\n",
        "\n",
        "        print(\"Updated lambdas:\", {i: f\"{lam_vals[i]:.2f}\" for i in I})\n",
        "\n",
        "        if u_bound - l_bound < 1:\n",
        "            print(\"Converged from gap < 1.\")\n",
        "            break\n",
        "\n",
        "    return {\n",
        "    'X': X,\n",
        "    'Y_relaxed': Y,\n",
        "    'Y_feasible': Y_feasible,\n",
        "    'lower_bound': l_bound,\n",
        "    'upper_bound': u_bound,\n",
        "    'gap': u_bound - l_bound,\n",
        "    'lambdas': lam_vals\n",
        "    }\n",
        "\n",
        "\n",
        "\n",
        "result = lr_ucflp(f0, c, h, I, J, max_iter=50)\n",
        "\n",
        "print(f\"\\n=== FINAL RESULTS ===\")\n",
        "print(f\"Lower Bound: {result['lower_bound']:.2f}\")\n",
        "print(f\"Upper Bound: {result['upper_bound']:.2f}\")\n",
        "print(f\"Gap: {result['gap']:.2f}\")\n",
        "print(\"Final facility locations:\", [j for j in J if result['X'][j] == 1])\n",
        "print(\"Final feasible assignments:\")\n",
        "for i in I:\n",
        "    for j in J:\n",
        "        if result['Y_feasible'][(i,j)] == 1:\n",
        "            print(f\"  Customer {i} -> Facility {j}\")"
      ]
    },
    {
      "cell_type": "markdown",
      "id": "ad703e9e",
      "metadata": {
        "id": "ad703e9e"
      },
      "source": [
        "The Lagrangian relaxation solver has found the same solution as the IP solver, with facilities at locations A, C, and E, with an objective cost of \\$345. Same fixed (\\$160) and transportation (\\$185) costs as the IP."
      ]
    },
    {
      "cell_type": "code",
      "execution_count": null,
      "id": "3239928a",
      "metadata": {
        "id": "3239928a"
      },
      "outputs": [],
      "source": []
    },
    {
      "cell_type": "markdown",
      "id": "5d673544",
      "metadata": {
        "id": "5d673544"
      },
      "source": [
        "# Problem 2a)\n",
        "$$\\max \\sum_{i \\in I} h_i z_i$$\n",
        "$$s.t. \\ \\  z_i \\leq \\sum_{j \\in J} a_{ij} x_j, \\forall i \\in I$$\n",
        "$$\\sum_{j \\in J} x_j = P$$\n",
        "$$x_j \\in \\{0,1\\} \\  \\forall j \\in J, \\ \\ \\  z_i \\in \\{0,1\\} \\  \\forall i \\in I$$\n",
        "\n",
        "where $h_i$ is the demand at node $i$, $Z_i=1$ if node $i \\in I$ is covered, $0$ if not, $a_{ij} = 1$ if candidate site $j$ can cover demand at node $i \\in I$ and $0$ if not, and $X_j=1$ if we locate a facility at candidate site $j$, $0$ if not."
      ]
    },
    {
      "cell_type": "markdown",
      "id": "b99ed48b",
      "metadata": {
        "id": "b99ed48b"
      },
      "source": [
        "Problem 2b) ADD Algorithm"
      ]
    },
    {
      "cell_type": "markdown",
      "id": "2887e783",
      "metadata": {
        "id": "2887e783"
      },
      "source": [
        "| Candidate Site | Nodes Covered | Demand Covered |\n",
        "|---------------|---------------|----------------|\n",
        "| A             | A, D, E       | 39             |\n",
        "| B             | B, F          | 47             |\n",
        "| C             | C             | 26             |\n",
        "| D             | D, A          | 28             |\n",
        "| E             | E, A          | 29             |\n",
        "| F             | F, B, I       | 82             |\n",
        "| G             | G             | 14             |\n",
        "| H             | H, I          | 66             |\n",
        "| I             | I, F, H, J    | 116            |\n",
        "| J             | J, I          | 65             |\n",
        "\n",
        "The optimal facility location for $P=1$ is at location, $I$, covering demand nodes $I, F, H, J$, with total covered demand of 116."
      ]
    },
    {
      "cell_type": "markdown",
      "id": "f41b6d07",
      "metadata": {
        "id": "f41b6d07"
      },
      "source": [
        "Problem 2c) ADD Algorithm"
      ]
    },
    {
      "cell_type": "markdown",
      "id": "b7edb4dc",
      "metadata": {
        "id": "b7edb4dc"
      },
      "source": [
        "| Candidate Site | Previously Uncovered Nodes Covered | Previously Uncovered Demand Covered |\n",
        "|---------------|-----------------------------------|-------------------------------------|\n",
        "| A             | A, D, E                           | 39                                  |\n",
        "| B             | B                                 | 27                                  |\n",
        "| C             | C                                 | 26                                  |\n",
        "| D             | D, A                              | 28                                  |\n",
        "| E             | E, A                              | 29                                  |\n",
        "| F             | -                                 | -                                   |\n",
        "| G             | G                                 | 14                                  |\n",
        "| H             | -                                 | -                                   |\n",
        "| I             | -                                 | -                                   |\n",
        "| J             | -                                 | -                                   |\n",
        "\n",
        "For $P=2$, in addition to facility $I$, it is best to locate the second facility at location $A$. Between the two facilities, this will cover nodes $A, D, E, F, I, H, J$, covering a total demand of 155."
      ]
    },
    {
      "cell_type": "markdown",
      "id": "761f7d84",
      "metadata": {
        "id": "761f7d84"
      },
      "source": [
        "## Problem 2b)\n",
        "### IP Solver"
      ]
    },
    {
      "cell_type": "code",
      "execution_count": null,
      "id": "bf0fb4f2",
      "metadata": {
        "id": "bf0fb4f2",
        "outputId": "fb057777-aff7-4ba5-f657-ee12ea739541"
      },
      "outputs": [
        {
          "name": "stdout",
          "output_type": "stream",
          "text": [
            "Gurobi Optimizer version 12.0.3 build v12.0.3rc0 (win64 - Windows 11.0 (26100.2))\n",
            "\n",
            "CPU model: 13th Gen Intel(R) Core(TM) i7-13700, instruction set [SSE2|AVX|AVX2]\n",
            "Thread count: 16 physical cores, 24 logical processors, using up to 24 threads\n",
            "\n",
            "Optimize a model with 11 rows, 20 columns and 42 nonzeros\n",
            "Model fingerprint: 0x10cccef1\n",
            "Variable types: 0 continuous, 20 integer (20 binary)\n",
            "Coefficient statistics:\n",
            "  Matrix range     [1e+00, 1e+00]\n",
            "  Objective range  [1e+01, 4e+01]\n",
            "  Bounds range     [1e+00, 1e+00]\n",
            "  RHS range        [1e+00, 1e+00]\n",
            "Found heuristic solution: objective 65.0000000\n",
            "Presolve removed 11 rows and 20 columns\n",
            "Presolve time: 0.00s\n",
            "Presolve: All rows and columns removed\n",
            "\n",
            "Explored 0 nodes (0 simplex iterations) in 0.01 seconds (0.00 work units)\n",
            "Thread count was 1 (of 24 available processors)\n",
            "\n",
            "Solution count 2: 116 65 \n",
            "\n",
            "Optimal solution found (tolerance 1.00e-04)\n",
            "Best objective 1.160000000000e+02, best bound 1.160000000000e+02, gap 0.0000%\n"
          ]
        },
        {
          "data": {
            "text/plain": [
              "({0: 0.0,\n",
              "  1: 0.0,\n",
              "  2: 0.0,\n",
              "  3: 0.0,\n",
              "  4: 0.0,\n",
              "  5: 0.0,\n",
              "  6: 0.0,\n",
              "  7: 0.0,\n",
              "  8: 1.0,\n",
              "  9: 0.0},\n",
              " {0: 0.0,\n",
              "  1: 0.0,\n",
              "  2: 0.0,\n",
              "  3: 0.0,\n",
              "  4: 0.0,\n",
              "  5: 1.0,\n",
              "  6: 0.0,\n",
              "  7: 1.0,\n",
              "  8: 1.0,\n",
              "  9: 1.0})"
            ]
          },
          "execution_count": 10,
          "metadata": {},
          "output_type": "execute_result"
        }
      ],
      "source": [
        "def MCLP(h, p, A):\n",
        "    model = Model('MCLP_1')\n",
        "    x = model.addVars(J2, vtype=GRB.BINARY)\n",
        "    z = model.addVars(I2, vtype=GRB.BINARY)\n",
        "\n",
        "    model.setObjective(quicksum(h2[i]*z[i] for i in I2), GRB.MAXIMIZE)\n",
        "    model.addConstrs((quicksum(A[i][j]*x[j] for j in J2) >= z[i] for i in I2))\n",
        "    model.addConstr(quicksum(x[j] for j in J2) == p)\n",
        "\n",
        "    model.update()\n",
        "    model.optimize()\n",
        "\n",
        "    return {j: x[j].X for j in J2}, {i: z[i].X for i in I2}\n",
        "\n",
        "\n",
        "\n",
        "I2 = [i for i in range(10)]\n",
        "J2 = [j for j in range(10)]\n",
        "\n",
        "h2 = [18, 27, 26, 10, 11, 20, 14, 31, 35, 30]\n",
        "A = [[1, 0, 0, 1, 1, 0, 0, 0, 0, 0],\n",
        "     [0, 1, 0, 0, 0, 1, 0, 0, 0, 0],\n",
        "     [0, 0, 1, 0, 0, 0, 0, 0, 0, 0],\n",
        "     [1, 0, 0, 1, 0, 0, 0, 0, 0, 0],\n",
        "     [1, 0, 0, 0, 1, 0, 0, 0, 0, 0],\n",
        "     [0, 1, 0, 0, 0, 1, 0, 0, 1, 0],\n",
        "     [0, 0, 0, 0, 0, 0, 1, 0, 0, 0],\n",
        "     [0, 0, 0, 0, 0, 0, 0, 1, 1, 0],\n",
        "     [0, 0, 0, 0, 0, 1, 0, 1, 1, 1],\n",
        "     [0, 0, 0, 0, 0, 0, 0, 0, 1, 1]]\n",
        "\n",
        "x, z = MCLP(h2, 1, A)\n",
        "x, z"
      ]
    },
    {
      "cell_type": "markdown",
      "id": "9ebc358e",
      "metadata": {
        "id": "9ebc358e"
      },
      "source": [
        "For $P=1$, we get the same solution as the ADD Algorithm, with a facility at $I$, covering nodes $I, F, H, J$ and total demand covering 116."
      ]
    },
    {
      "cell_type": "markdown",
      "id": "eac8c05d",
      "metadata": {
        "id": "eac8c05d"
      },
      "source": [
        "## Problem 2c)\n",
        "\n",
        "### IP Solver"
      ]
    },
    {
      "cell_type": "code",
      "execution_count": null,
      "id": "77656055",
      "metadata": {
        "id": "77656055",
        "outputId": "89b9edb4-f734-4e84-bc84-637c2c526fde"
      },
      "outputs": [
        {
          "name": "stdout",
          "output_type": "stream",
          "text": [
            "Gurobi Optimizer version 12.0.3 build v12.0.3rc0 (win64 - Windows 11.0 (26100.2))\n",
            "\n",
            "CPU model: 13th Gen Intel(R) Core(TM) i7-13700, instruction set [SSE2|AVX|AVX2]\n",
            "Thread count: 16 physical cores, 24 logical processors, using up to 24 threads\n",
            "\n",
            "Optimize a model with 11 rows, 20 columns and 42 nonzeros\n",
            "Model fingerprint: 0x543dfa94\n",
            "Variable types: 0 continuous, 20 integer (20 binary)\n",
            "Coefficient statistics:\n",
            "  Matrix range     [1e+00, 1e+00]\n",
            "  Objective range  [1e+01, 4e+01]\n",
            "  Bounds range     [1e+00, 1e+00]\n",
            "  RHS range        [2e+00, 2e+00]\n",
            "Found heuristic solution: objective 93.0000000\n",
            "Presolve removed 2 rows and 2 columns\n",
            "Presolve time: 0.00s\n",
            "Presolved: 9 rows, 18 columns, 38 nonzeros\n",
            "Variable types: 0 continuous, 18 integer (18 binary)\n",
            "\n",
            "Root relaxation: objective 1.550000e+02, 8 iterations, 0.01 seconds (0.00 work units)\n",
            "\n",
            "    Nodes    |    Current Node    |     Objective Bounds      |     Work\n",
            " Expl Unexpl |  Obj  Depth IntInf | Incumbent    BestBd   Gap | It/Node Time\n",
            "\n",
            "*    0     0               0     155.0000000  155.00000  0.00%     -    0s\n",
            "\n",
            "Explored 1 nodes (8 simplex iterations) in 0.01 seconds (0.00 work units)\n",
            "Thread count was 24 (of 24 available processors)\n",
            "\n",
            "Solution count 2: 155 93 \n",
            "\n",
            "Optimal solution found (tolerance 1.00e-04)\n",
            "Best objective 1.550000000000e+02, best bound 1.550000000000e+02, gap 0.0000%\n"
          ]
        },
        {
          "data": {
            "text/plain": [
              "({0: 1.0,\n",
              "  1: 0.0,\n",
              "  2: -0.0,\n",
              "  3: 0.0,\n",
              "  4: 0.0,\n",
              "  5: -0.0,\n",
              "  6: -0.0,\n",
              "  7: 0.0,\n",
              "  8: 1.0,\n",
              "  9: -0.0},\n",
              " {0: 1.0,\n",
              "  1: 0.0,\n",
              "  2: -0.0,\n",
              "  3: 1.0,\n",
              "  4: 1.0,\n",
              "  5: 1.0,\n",
              "  6: -0.0,\n",
              "  7: 1.0,\n",
              "  8: 1.0,\n",
              "  9: 1.0})"
            ]
          },
          "execution_count": 11,
          "metadata": {},
          "output_type": "execute_result"
        }
      ],
      "source": [
        "x2, z2 = MCLP(h2, 2, A)\n",
        "x2, z2"
      ]
    },
    {
      "cell_type": "markdown",
      "id": "817b91c9",
      "metadata": {
        "id": "817b91c9"
      },
      "source": [
        "Again, we get the same solution as before with facilities located at $A, I$, covering nodes $A, D, E, F, H, I, J$, and total demand covered of 155."
      ]
    },
    {
      "cell_type": "code",
      "execution_count": null,
      "id": "2e7cfb18",
      "metadata": {
        "id": "2e7cfb18"
      },
      "outputs": [],
      "source": []
    },
    {
      "cell_type": "markdown",
      "id": "3a116b50",
      "metadata": {
        "id": "3a116b50"
      },
      "source": [
        "# Problem 3"
      ]
    },
    {
      "cell_type": "code",
      "execution_count": null,
      "id": "7d918df5",
      "metadata": {
        "id": "7d918df5"
      },
      "outputs": [],
      "source": [
        "import pandas as pd\n",
        "df = pd.read_excel('network_data.xlsx')\n",
        "df.head()\n",
        "\n",
        "demands = {}\n",
        "for i in range(88):\n",
        "    for l in range(5):\n",
        "        demands[(i,l)] = float(df.iloc[i+1, l+1])\n",
        "\n",
        "fixed_costs_j = []\n",
        "for i in range(88):\n",
        "    fixed_costs_j.append(float(df.iloc[i+92, 2]))\n",
        "fixed_costs_k = [float(1000000) for k in range(10)]\n",
        "\n",
        "cap_j = [float(2000) for j in range(88)]\n",
        "cap_k = [float(10000) for k in range(10)]\n",
        "\n",
        "t_costs_ji = {}\n",
        "for i in range(88):\n",
        "    for j in range(88):\n",
        "        t_costs_ji[(j,i)] = float(df.iloc[i+184, j+1])\n",
        "\n",
        "t_costs_kj = {}\n",
        "for j in range(88):\n",
        "    for k in range(10):\n",
        "        t_costs_kj[(k,j)] = float(df.iloc[j+275, k+1])"
      ]
    },
    {
      "cell_type": "code",
      "execution_count": null,
      "id": "35290850",
      "metadata": {
        "id": "35290850",
        "outputId": "ecc4b70d-2886-4bb5-9045-918ade97f3a4"
      },
      "outputs": [
        {
          "name": "stdout",
          "output_type": "stream",
          "text": [
            "Gurobi Optimizer version 12.0.3 build v12.0.3rc0 (win64 - Windows 11.0 (26100.2))\n",
            "\n",
            "CPU model: 13th Gen Intel(R) Core(TM) i7-13700, instruction set [SSE2|AVX|AVX2]\n",
            "Thread count: 16 physical cores, 24 logical processors, using up to 24 threads\n",
            "\n",
            "Optimize a model with 44098 rows, 43218 columns and 211298 nonzeros\n",
            "Model fingerprint: 0x15dfbb1d\n",
            "Variable types: 43120 continuous, 98 integer (98 binary)\n",
            "Coefficient statistics:\n",
            "  Matrix range     [2e-01, 1e+04]\n",
            "  Objective range  [3e+00, 1e+06]\n",
            "  Bounds range     [1e+00, 1e+00]\n",
            "  RHS range        [2e-01, 7e+02]\n",
            "Found heuristic solution: objective 2.735653e+07\n",
            "Presolve time: 0.13s\n",
            "Presolved: 44098 rows, 43218 columns, 211298 nonzeros\n",
            "Variable types: 43120 continuous, 98 integer (98 binary)\n",
            "Deterministic concurrent LP optimizer: primal and dual simplex\n",
            "Showing primal log only...\n",
            "\n",
            "Concurrent spin time: 0.13s\n",
            "\n",
            "Solved with primal simplex\n",
            "\n",
            "Root relaxation: objective 3.065100e+06, 15437 iterations, 1.48 seconds (3.43 work units)\n",
            "\n",
            "    Nodes    |    Current Node    |     Objective Bounds      |     Work\n",
            " Expl Unexpl |  Obj  Depth IntInf | Incumbent    BestBd   Gap | It/Node Time\n",
            "\n",
            "     0     0 3065100.29    0   25 2.7357e+07 3065100.29  88.8%     -    1s\n",
            "H    0     0                    9669725.3367 3065100.29  68.3%     -    1s\n",
            "H    0     0                    9496066.9654 3065100.29  67.7%     -    1s\n",
            "H    0     0                    8135231.9134 3065100.29  62.3%     -    1s\n",
            "H    0     0                    8064031.9134 3065100.29  62.0%     -    1s\n",
            "H    0     0                    7959241.8940 3065100.29  61.5%     -    1s\n",
            "H    0     0                    7889345.9090 3065100.29  61.1%     -    1s\n",
            "H    0     0                    5824807.8544 3065100.29  47.4%     -    1s\n",
            "H    0     0                    4959571.3060 3065100.29  38.2%     -    2s\n",
            "     0     0 3236217.01    0   38 4959571.31 3236217.01  34.7%     -    3s\n",
            "     0     0 3236217.01    0   38 4959571.31 3236217.01  34.7%     -    4s\n",
            "     0     0 3236217.01    0   38 4959571.31 3236217.01  34.7%     -    4s\n",
            "     0     0 3617172.61    0   43 4959571.31 3617172.61  27.1%     -    5s\n",
            "     0     0 3838157.71    0   45 4959571.31 3838157.71  22.6%     -    6s\n",
            "     0     0 3838444.89    0   44 4959571.31 3838444.89  22.6%     -    7s\n",
            "     0     0 3838444.89    0   44 4959571.31 3838444.89  22.6%     -    7s\n",
            "     0     0 3870512.95    0   44 4959571.31 3870512.95  22.0%     -    7s\n",
            "H    0     0                    4728129.0791 3870512.95  18.1%     -    8s\n",
            "     0     0 3964715.47    0   49 4728129.08 3964715.47  16.1%     -    9s\n",
            "     0     0 4001179.10    0   50 4728129.08 4001179.10  15.4%     -   10s\n",
            "H    0     0                    4712186.5830 4001179.10  15.1%     -   10s\n",
            "     0     0 4015903.76    0   50 4712186.58 4015903.76  14.8%     -   10s\n",
            "     0     0 4020009.15    0   50 4712186.58 4020009.15  14.7%     -   10s\n",
            "     0     0 4080615.38    0   51 4712186.58 4080615.38  13.4%     -   10s\n",
            "H    0     0                    4697557.8014 4221748.56  10.1%     -   13s\n",
            "     0     0 4505741.68    0   51 4697557.80 4505741.68  4.08%     -   13s\n",
            "     0     0 4589782.34    0   47 4697557.80 4589782.34  2.29%     -   13s\n",
            "     0     0 4594640.86    0   51 4697557.80 4594640.86  2.19%     -   14s\n",
            "     0     0 4628274.61    0   54 4697557.80 4628274.61  1.47%     -   14s\n",
            "     0     0 4628274.61    0   51 4697557.80 4628274.61  1.47%     -   14s\n",
            "     0     0 4644968.24    0   55 4697557.80 4644968.24  1.12%     -   15s\n",
            "H    0     0                    4694389.2142 4644968.24  1.05%     -   16s\n",
            "     0     0 4670089.32    0   55 4694389.21 4670089.32  0.52%     -   16s\n",
            "     0     2 4670089.32    0   55 4694389.21 4670089.32  0.52%     -   18s\n",
            "     1     3 4670089.32    1   28 4694389.21 4670089.32  0.52%  3537   20s\n",
            "    21    22     cutoff    5      4694389.21 4670089.32  0.52%  1710   26s\n",
            "H   79    31                    4680756.4469 4670089.32  0.23%   933   29s\n",
            "   111     8     cutoff    7      4680756.45 4670089.32  0.23%   728   30s\n",
            "\n",
            "Cutting planes:\n",
            "  Lift-and-project: 1\n",
            "  Implied bound: 85\n",
            "  MIR: 57\n",
            "  Flow cover: 363\n",
            "  Flow path: 212\n",
            "  Network: 1\n",
            "  RLT: 7\n",
            "\n",
            "Explored 159 nodes (123371 simplex iterations) in 31.04 seconds (110.66 work units)\n",
            "Thread count was 24 (of 24 available processors)\n",
            "\n",
            "Solution count 10: 4.68076e+06 4.69756e+06 4.72813e+06 ... 9.49607e+06\n",
            "\n",
            "Optimal solution found (tolerance 1.00e-04)\n",
            "Best objective 4.680756446863e+06, best bound 4.680756446863e+06, gap 0.0000%\n"
          ]
        }
      ],
      "source": [
        "model = Model(\"CFLP\")\n",
        "I = [i for i in range(88)]\n",
        "J = I\n",
        "K = [k for k in range(10)]\n",
        "L = [l for l in range(5)]\n",
        "\n",
        "cities = model.addVars(I, vtype=GRB.BINARY, name=\"cities\")\n",
        "plants = model.addVars(K, vtype=GRB.BINARY, name=\"plants\")\n",
        "flow_kj = model.addVars(K, J, L, vtype=GRB.CONTINUOUS, lb=0, name=\"flow_plants_to_cities\")\n",
        "flow_ji = model.addVars(J, I, L, vtype=GRB.CONTINUOUS, lb=0, name=\"flow_cities_to_customers\")\n",
        "\n",
        "model.setObjective(\n",
        "    quicksum(fixed_costs_j[j] * cities[j] for j in J) +\n",
        "    quicksum(fixed_costs_k[k] * plants[k] for k in K) +\n",
        "    0.25 * quicksum(t_costs_kj[(k, j)] * flow_kj[k, j, l] for k in K for j in J for l in L) +\n",
        "    0.5 * quicksum(t_costs_ji[(j, i)] * flow_ji[j, i, l] for j in J for i in I for l in L),\n",
        "    GRB.MINIMIZE)\n",
        "\n",
        "model.addConstrs((quicksum(flow_ji[j, i, l] for j in J) == demands[(i, l)] for i in I for l in L), name=\"demand_satisfaction\")\n",
        "model.addConstrs((flow_ji[j, i, l] <= demands[(i, l)] * cities[j] for j in J for i in I for l in L), name=\"open_city\")\n",
        "model.addConstrs((flow_kj[k, j, l] <= sum(demands[(i, l)] for i in I) * plants[k] for k in K for j in J for l in L), name=\"open_plant\")\n",
        "model.addConstrs((quicksum(flow_kj[k, j, l] for k in K) == quicksum(flow_ji[j, i, l] for i in I) for j in J for l in L), name=\"flow_balance\")\n",
        "model.addConstrs((quicksum(flow_ji[j, i, l] for i in I for l in L) <= cap_j[j]*cities[j] for j in J), name=\"city_cap\")\n",
        "model.addConstrs((quicksum(flow_kj[k, j, l] for j in J for l in L) <= cap_k[k]*plants[k] for k in K), name=\"plant_cap\")\n",
        "\n",
        "model.update()\n",
        "model.optimize()"
      ]
    },
    {
      "cell_type": "code",
      "execution_count": null,
      "id": "e165c8aa",
      "metadata": {
        "id": "e165c8aa",
        "outputId": "5356daf6-8bd7-454d-8fea-3afd34e5701a"
      },
      "outputs": [
        {
          "name": "stdout",
          "output_type": "stream",
          "text": [
            "Optimal cost: 4680756.446863113\n"
          ]
        }
      ],
      "source": [
        "print(\"Optimal cost:\", model.ObjVal)"
      ]
    },
    {
      "cell_type": "code",
      "execution_count": null,
      "id": "0eecbef9",
      "metadata": {
        "id": "0eecbef9",
        "outputId": "3239ed60-0b74-45b8-bd60-630ef988c5c1"
      },
      "outputs": [
        {
          "name": "stdout",
          "output_type": "stream",
          "text": [
            "Open city at location: 3 with cost: 78700.0\n",
            "Open city at location: 4 with cost: 58000.0\n",
            "Open city at location: 5 with cost: 49400.0\n",
            "Open city at location: 7 with cost: 25600.0\n",
            "Open city at location: 9 with cost: 77100.0\n",
            "Open city at location: 46 with cost: 80300.0\n",
            "Open city at location: 67 with cost: 48800.0\n",
            "Open city at location: 75 with cost: 38400.0\n",
            "Open city at location: 84 with cost: 61500.0\n",
            "\n",
            "Total cost of opened cities: 517800.0\n",
            "\n",
            "Open plant at location: 6 with cost: 1000000.0\n",
            "Open plant at location: 7 with cost: 1000000.0\n",
            "\n",
            "Total cost of opened plants: 2000000.0\n"
          ]
        }
      ],
      "source": [
        "for j in J:\n",
        "    if cities[j].X > 0.5:\n",
        "        print(\"Open city at location:\", j+1, \"with cost:\", fixed_costs_j[j])\n",
        "print(\"\\nTotal cost of opened cities:\", quicksum(fixed_costs_j[j] * cities[j].X for j in J).getValue())\n",
        "print(\"\")\n",
        "for k in K:\n",
        "    if plants[k].X > 0.5:\n",
        "        print(\"Open plant at location:\", k+1, \"with cost:\", fixed_costs_k[k])\n",
        "print(\"\\nTotal cost of opened plants:\", quicksum(fixed_costs_k[k] * plants[k].X for k in K).getValue())"
      ]
    },
    {
      "cell_type": "markdown",
      "id": "8e57919b",
      "metadata": {
        "id": "8e57919b"
      },
      "source": [
        "The optimal solution has us opening 2 plants at locations 6 and 7, each with a fixed cost of \\$1,000,000, and open 9 facilities in cities 3, 4, 5, 7, 9, 46, 67, 75, and 84, with a total fixed cost of \\$517,800. This gives a total fixed cost of \\$2,517,800, meaning the total transportation cost is \\$2,162,956.45."
      ]
    },
    {
      "cell_type": "markdown",
      "id": "0671431a",
      "metadata": {
        "id": "0671431a"
      },
      "source": []
    }
  ],
  "metadata": {
    "colab": {
      "provenance": []
    },
    "kernelspec": {
      "display_name": "Python 3",
      "language": "python",
      "name": "python3"
    },
    "language_info": {
      "codemirror_mode": {
        "name": "ipython",
        "version": 3
      },
      "file_extension": ".py",
      "mimetype": "text/x-python",
      "name": "python",
      "nbconvert_exporter": "python",
      "pygments_lexer": "ipython3",
      "version": "3.11.9"
    }
  },
  "nbformat": 4,
  "nbformat_minor": 5
}
