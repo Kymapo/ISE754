{
 "cells": [
  {
   "cell_type": "markdown",
   "id": "b8c36222",
   "metadata": {},
   "source": [
    "Problem 1a) ADD Algorithm"
   ]
  },
  {
   "cell_type": "code",
   "execution_count": 2,
   "id": "7355d394",
   "metadata": {},
   "outputs": [
    {
     "name": "stdout",
     "output_type": "stream",
     "text": [
      "[[  0.  80. 128.  80.  96. 128.]\n",
      " [100.   0.  60.  70. 160. 130.]\n",
      " [ 96.  36.   0.  42.  96.  54.]\n",
      " [ 50.  35.  35.   0.  45.  30.]\n",
      " [108. 144. 144.  81.   0.  81.]\n",
      " [160. 130.  90.  60.  90.   0.]]\n",
      "[np.float64(554.0), np.float64(525.0), np.float64(507.0), np.float64(448.0), np.float64(557.0), np.float64(523.0)]\n"
     ]
    }
   ],
   "source": [
    "import numpy as np\n",
    "\n",
    "nodes = ['A','B','C','D','E','F']\n",
    "f0 = [40, 100, 50, 115, 70, 100] # fixed costs\n",
    "f=f0.copy()\n",
    "h = [8, 10, 6, 5, 9, 10] # demand\n",
    "\n",
    "\n",
    "c = {(0,0): 0 , (0,1): 10, (0,2): 16, (0,3): 10, (0,4): 12, (0,5): 16,\n",
    "     (1,0): 10, (1,1): 0 , (1,2): 6 , (1,3): 7 , (1,4): 16, (1,5): 13,\n",
    "     (2,0): 16, (2,1): 6 , (2,2): 0 , (2,3): 7 , (2,4): 16, (2,5): 9 ,\n",
    "     (3,0): 10, (3,1): 7 , (3,2): 7 , (3,3): 0 , (3,4): 9 , (3,5): 6 ,\n",
    "     (4,0): 12, (4,1): 16, (4,2): 16, (4,3): 9 , (4,4): 0 , (4,5): 9 ,\n",
    "     (5,0): 16, (5,1): 13, (5,2): 9 , (5,3): 6 , (5,4): 9 , (5,5): 0 } # transportation distances * cost per unit demand (=1)\n",
    "\n",
    "\n",
    "weighted_demand = np.zeros((6,6))\n",
    "for i in range(6):\n",
    "\tfor j in range(6):\n",
    "\t\tweighted_demand[i, j] = c[(i, j)] * h[i]\n",
    "print(weighted_demand)\n",
    "\n",
    "totals = [sum(weighted_demand[:,i]) * 1 + f[i] for i in range(6)]\n",
    "print(totals)"
   ]
  },
  {
   "cell_type": "code",
   "execution_count": 3,
   "id": "f540d7a8",
   "metadata": {},
   "outputs": [
    {
     "name": "stdout",
     "output_type": "stream",
     "text": [
      "Optimal location is at location: D with cost: 448.0\n"
     ]
    }
   ],
   "source": [
    "facilities_to_open = [nodes[np.argmin(totals)]]\n",
    "print(\"Optimal location is at location:\", nodes[np.argmin(totals)], \"with cost:\", min(totals))"
   ]
  },
  {
   "cell_type": "code",
   "execution_count": 4,
   "id": "d4c0cdd9",
   "metadata": {},
   "outputs": [
    {
     "name": "stdout",
     "output_type": "stream",
     "text": [
      "[[ 0. 80. 80. 80. 80. 80.]\n",
      " [70.  0. 60. 70. 70. 70.]\n",
      " [42. 36.  0. 42. 42. 42.]\n",
      " [ 0.  0.  0.  0.  0.  0.]\n",
      " [81. 81. 81. 81.  0. 81.]\n",
      " [60. 60. 60. 60. 60.  0.]]\n",
      "[155, 215, 165, 115, 185, 215]\n",
      "[np.float64(408.0), np.float64(472.0), np.float64(446.0), np.float64(448.0), np.float64(437.0), np.float64(488.0)]\n"
     ]
    }
   ],
   "source": [
    "weighted_demand[np.argmin(totals),:] = 0\n",
    "\n",
    "## Update all distances that are closer to the new facility than node i\n",
    "weighted_demand[0,2] = h[0]*c[(0,3)]\n",
    "weighted_demand[0,4] = h[0]*c[(0,3)]\n",
    "weighted_demand[0,5] = h[0]*c[(0,3)]\n",
    "weighted_demand[1,0] = h[1]*c[(1,3)]\n",
    "weighted_demand[1,4] = h[1]*c[(1,3)]\n",
    "weighted_demand[1,5] = h[1]*c[(1,3)]\n",
    "weighted_demand[2,0] = h[2]*c[(2,3)]\n",
    "weighted_demand[2,4] = h[2]*c[(2,3)]\n",
    "weighted_demand[2,5] = h[2]*c[(2,3)]\n",
    "weighted_demand[4,0] = h[4]*c[(4,3)]\n",
    "weighted_demand[4,1] = h[4]*c[(4,3)]\n",
    "weighted_demand[4,2] = h[4]*c[(4,3)]\n",
    "weighted_demand[5,0] = h[5]*c[(5,3)]\n",
    "weighted_demand[5,1] = h[5]*c[(5,3)]\n",
    "weighted_demand[5,2] = h[5]*c[(5,3)]\n",
    "weighted_demand[5,4] = h[5]*c[(5,3)]\n",
    "print(weighted_demand)\n",
    "for i in range(6):\n",
    "    if nodes[i] == facilities_to_open[-1]:\n",
    "        continue\n",
    "    f[i] += f[np.argmin(totals)]\n",
    "print(f)\n",
    "totals = [sum(weighted_demand[:,i]) * 1 + f[i] for i in range(6)]\n",
    "print(totals)"
   ]
  },
  {
   "cell_type": "code",
   "execution_count": 5,
   "id": "d723f72b",
   "metadata": {},
   "outputs": [
    {
     "name": "stdout",
     "output_type": "stream",
     "text": [
      "Next optimal location is at location: A with cost: 408.0\n"
     ]
    }
   ],
   "source": [
    "facilities_to_open.append(nodes[np.argmin(totals)])\n",
    "print(\"Next optimal location is at location:\", nodes[np.argmin(totals)], \"with cost:\", min(totals))"
   ]
  },
  {
   "cell_type": "code",
   "execution_count": 6,
   "id": "7b632ea5",
   "metadata": {},
   "outputs": [
    {
     "name": "stdout",
     "output_type": "stream",
     "text": [
      "[[ 0.  0.  0.  0.  0.  0.]\n",
      " [70.  0. 60. 70. 70. 70.]\n",
      " [42. 36.  0. 42. 42. 42.]\n",
      " [ 0.  0.  0.  0.  0.  0.]\n",
      " [81. 81. 81. 81.  0. 81.]\n",
      " [60. 60. 60. 60. 60.  0.]]\n",
      "[155, 370, 320, 270, 340, 370]\n",
      "[np.float64(408.0), np.float64(547.0), np.float64(521.0), np.float64(523.0), np.float64(512.0), np.float64(563.0)]\n"
     ]
    }
   ],
   "source": [
    "weighted_demand[np.argmin(totals),:] = 0\n",
    "## No distances to update this step\n",
    "print(weighted_demand)\n",
    "for i in range(6):\n",
    "    if nodes[i] == facilities_to_open[-1]:\n",
    "        continue\n",
    "    f[i] += f[np.argmin(totals)]\n",
    "print(f)\n",
    "totals = [sum(weighted_demand[:,i]) * 1 + f[i] for i in range(6)]\n",
    "print(totals)"
   ]
  },
  {
   "cell_type": "markdown",
   "id": "7ff76bf5",
   "metadata": {},
   "source": [
    "Now that we have no new facilities that give us a better objective value, we stop. So our optimal facility locations are "
   ]
  },
  {
   "cell_type": "code",
   "execution_count": 7,
   "id": "0f606135",
   "metadata": {},
   "outputs": [
    {
     "name": "stdout",
     "output_type": "stream",
     "text": [
      "['D', 'A']\n"
     ]
    }
   ],
   "source": [
    "print(facilities_to_open)"
   ]
  },
  {
   "cell_type": "markdown",
   "id": "e48176d1",
   "metadata": {},
   "source": [
    "Locations D and A, with a total cost of $408."
   ]
  },
  {
   "cell_type": "code",
   "execution_count": null,
   "id": "79f42b3b",
   "metadata": {},
   "outputs": [],
   "source": []
  },
  {
   "cell_type": "markdown",
   "id": "c36c8ed0",
   "metadata": {},
   "source": [
    "Problem 1b) IP Solver"
   ]
  },
  {
   "cell_type": "code",
   "execution_count": 8,
   "id": "6f60dce9",
   "metadata": {},
   "outputs": [
    {
     "name": "stdout",
     "output_type": "stream",
     "text": [
      "Restricted license - for non-production use only - expires 2026-11-23\n",
      "Gurobi Optimizer version 12.0.3 build v12.0.3rc0 (win64 - Windows 11.0 (26100.2))\n",
      "\n",
      "CPU model: AMD Ryzen 5 5625U with Radeon Graphics, instruction set [SSE2|AVX|AVX2]\n",
      "Thread count: 6 physical cores, 12 logical processors, using up to 12 threads\n",
      "\n",
      "Optimize a model with 42 rows, 42 columns and 108 nonzeros\n",
      "Model fingerprint: 0x1a2fbf6f\n",
      "Variable types: 36 continuous, 6 integer (6 binary)\n",
      "Coefficient statistics:\n",
      "  Matrix range     [1e+00, 1e+00]\n",
      "  Objective range  [3e+01, 4e+02]\n",
      "  Bounds range     [1e+00, 1e+00]\n",
      "  RHS range        [1e+00, 1e+00]\n",
      "Presolve time: 0.00s\n",
      "Presolved: 42 rows, 42 columns, 108 nonzeros\n",
      "Variable types: 36 continuous, 6 integer (6 binary)\n",
      "Found heuristic solution: objective 1825.0000000\n",
      "Found heuristic solution: objective 1750.0000000\n",
      "Found heuristic solution: objective 1515.0000000\n",
      "\n",
      "Root relaxation: objective 6.030000e+02, 23 iterations, 0.00 seconds (0.00 work units)\n",
      "\n",
      "    Nodes    |    Current Node    |     Objective Bounds      |     Work\n",
      " Expl Unexpl |  Obj  Depth IntInf | Incumbent    BestBd   Gap | It/Node Time\n",
      "\n",
      "*    0     0               0     603.0000000  603.00000  0.00%     -    0s\n",
      "\n",
      "Explored 1 nodes (23 simplex iterations) in 0.05 seconds (0.00 work units)\n",
      "Thread count was 12 (of 12 available processors)\n",
      "\n",
      "Solution count 4: 603 1515 1750 1825 \n",
      "\n",
      "Optimal solution found (tolerance 1.00e-04)\n",
      "Best objective 6.030000000000e+02, best bound 6.030000000000e+02, gap 0.0000%\n"
     ]
    }
   ],
   "source": [
    "from gurobipy import Model, GRB, quicksum\n",
    "\n",
    "I = [i for i in range(6)]\n",
    "J = [j for j in range(6)]\n",
    "IJ = [(i,j) for i in I for j in J]\n",
    "\n",
    "\n",
    "model = Model(\"UFLP_1b\")\n",
    "x = model.addVars(J, vtype=GRB.BINARY)\n",
    "y = model.addVars(IJ, vtype=GRB.CONTINUOUS, lb=0)\n",
    "\n",
    "model.setObjective(quicksum(f[j]*x[j] for j in J) + quicksum(h[i]*c[i,j]*y[i,j] for (i,j) in IJ), GRB.MINIMIZE)\n",
    "model.addConstrs((quicksum(y[i,j] for j in J) == 1 for i in I))\n",
    "model.addConstrs((y[i,j] <= x[j] for (i,j) in IJ))\n",
    "model.update()\n",
    "model.optimize()"
   ]
  },
  {
   "cell_type": "code",
   "execution_count": 9,
   "id": "dede97ab",
   "metadata": {},
   "outputs": [
    {
     "data": {
      "text/plain": [
       "{0: <gurobi.Var C0 (value 0.0)>,\n",
       " 1: <gurobi.Var C1 (value -0.0)>,\n",
       " 2: <gurobi.Var C2 (value -0.0)>,\n",
       " 3: <gurobi.Var C3 (value 1.0)>,\n",
       " 4: <gurobi.Var C4 (value -0.0)>,\n",
       " 5: <gurobi.Var C5 (value -0.0)>}"
      ]
     },
     "execution_count": 9,
     "metadata": {},
     "output_type": "execute_result"
    }
   ],
   "source": [
    "x\n",
    "\n",
    "#y"
   ]
  },
  {
   "cell_type": "markdown",
   "id": "e03ead37",
   "metadata": {},
   "source": [
    "The IP Solver finds a solution of opening facilities A, C, and E, with an objective cost of $345."
   ]
  },
  {
   "cell_type": "code",
   "execution_count": null,
   "id": "347e9a0d",
   "metadata": {},
   "outputs": [],
   "source": []
  },
  {
   "cell_type": "markdown",
   "id": "51ce56b5",
   "metadata": {},
   "source": [
    "Problem 1c) Lagrangian Relaxation"
   ]
  },
  {
   "cell_type": "code",
   "execution_count": 51,
   "id": "77db2bc7",
   "metadata": {},
   "outputs": [
    {
     "name": "stdout",
     "output_type": "stream",
     "text": [
      "--- Iteration 0 ---\n",
      "LB: -23036.000000000015\n",
      "UB: 3114\n",
      "lambdas now: {'A': np.float64(861.6666666666667), 'B': np.float64(861.6666666666667), 'C': np.float64(861.6666666666667), 'D': np.float64(861.6666666666667), 'E': np.float64(861.6666666666667), 'F': np.float64(861.6666666666667)}\n",
      "--- Iteration 1 ---\n",
      "LB: -22736.000000000015\n",
      "UB: 3114\n",
      "lambdas now: {'A': np.float64(256.3425925925924), 'B': np.float64(256.3425925925924), 'C': np.float64(256.3425925925924), 'D': np.float64(256.3425925925924), 'E': np.float64(256.3425925925924), 'F': np.float64(256.3425925925924)}\n",
      "--- Iteration 2 ---\n",
      "LB: -4576.2777777777665\n",
      "UB: 3114\n",
      "lambdas now: {'A': 0, 'B': 0, 'C': 0, 'D': 0, 'E': 0, 'F': 0}\n",
      "--- Iteration 3 ---\n",
      "LB: 0.0\n",
      "UB: 0\n",
      "lambdas now: {'A': np.float64(35.60313786008225), 'B': np.float64(35.60313786008225), 'C': np.float64(35.60313786008225), 'D': np.float64(35.60313786008225), 'E': np.float64(35.60313786008225), 'F': np.float64(35.60313786008225)}\n",
      "--- Iteration 4 ---\n",
      "LB: 213.6188271604935\n",
      "UB: 0\n",
      "lambdas now: {'A': np.float64(71.2062757201645), 'B': np.float64(71.2062757201645), 'C': np.float64(71.2062757201645), 'D': np.float64(71.2062757201645), 'E': np.float64(71.2062757201645), 'F': np.float64(71.2062757201645)}\n",
      "--- Iteration 5 ---\n",
      "LB: 206.55606995884847\n",
      "UB: 705\n",
      "lambdas now: {'A': np.float64(71.2062757201645), 'B': np.float64(35.60313786008225), 'C': 0, 'D': 0, 'E': np.float64(71.2062757201645), 'F': np.float64(71.2062757201645)}\n",
      "--- Iteration 6 ---\n",
      "LB: 216.80941358024674\n",
      "UB: 110\n",
      "lambdas now: {'A': np.float64(71.2062757201645), 'B': np.float64(47.76030688547619), 'C': np.float64(12.157169025393939), 'D': np.float64(12.157169025393939), 'E': np.float64(71.2062757201645), 'F': np.float64(83.36344474555844)}\n",
      "--- Iteration 7 ---\n",
      "LB: 265.4380896818225\n",
      "UB: 110\n",
      "lambdas now: {'A': np.float64(71.2062757201645), 'B': 0, 'C': 0, 'D': 0, 'E': np.float64(71.2062757201645), 'F': np.float64(29.95873795543507)}\n",
      "--- Iteration 8 ---\n",
      "LB: 139.95873795543505\n",
      "UB: 110\n",
      "lambdas now: {'A': np.float64(71.2062757201645), 'B': 0, 'C': 0, 'D': 0, 'E': np.float64(71.2062757201645), 'F': 0}\n",
      "--- Iteration 9 ---\n",
      "LB: 110.0\n",
      "UB: 110\n",
      "lambdas now: {'A': np.float64(71.2062757201645), 'B': 0, 'C': 0, 'D': 0, 'E': np.float64(71.2062757201645), 'F': 0}\n"
     ]
    }
   ],
   "source": [
    "# Lagrangian relaxation - run two iterations in this cell\n",
    "avg_demand = np.mean(h)\n",
    "avg_fixed = np.mean(f0)\n",
    "\n",
    "# initialize lam as a dict of lists (one list per node)\n",
    "lam = {node: [10*(avg_demand + avg_fixed)] for node in nodes}\n",
    "\n",
    "alpha = 1.0\n",
    "step_size = 2.0\n",
    "\n",
    "I = [i for i in range(6)]\n",
    "J = [j for j in range(6)]\n",
    "\n",
    "def run_iteration(iter_num):\n",
    "    global lam\n",
    "    global alpha\n",
    "    global step_size\n",
    "    print(\"--- Iteration {} ---\".format(iter_num))\n",
    "    # recompute V, X, Y using latest lambdas\n",
    "    Y = {(i,j): 0 for i in I for j in J}\n",
    "    X = {j: 0 for j in J}\n",
    "    V = {}\n",
    "    for j in J:\n",
    "        V[j] = f0[j] + sum(min(0, alpha * h[i] * c[(i,j)] - lam[nodes[i]][-1]) for i in I)\n",
    "        X[j] = 1 if V[j] < 0 else 0\n",
    "        for i in I:\n",
    "            Y[(i,j)] = 1 if (X[j] == 1 and alpha * h[i] * c[(i,j)] - lam[nodes[i]][-1] < 0) else 0\n",
    "\n",
    "    #print(\"X:\", X)\n",
    "    #print(\"Y:\", Y)\n",
    "\n",
    "    l_bound = sum(f0[j]*X[j] for j in J) + sum((alpha * h[i] * c[(i,j)] - lam[nodes[i]][-1])*Y[(i,j)] for i in I for j in J) + sum(lam[nodes[i]][-1] for i in I)\n",
    "    print(\"LB:\", l_bound)\n",
    "    u_bound = sum(f0[j]*X[j] for j in J) + sum(h[i] * c[(i,j)] * Y[(i,j)] for i in I for j in J)\n",
    "    print(\"UB:\", u_bound)\n",
    "\n",
    "    # update lambdas for this iteration (append)\n",
    "    for i in I:\n",
    "        node = nodes[i]\n",
    "        violation = sum(Y[(i,j)] for j in J) - 1\n",
    "        new_val = max(0, lam[node][-1] - step_size * violation)\n",
    "        lam[node].append(new_val)\n",
    "\n",
    "\t# update step size\n",
    "    step_size = (u_bound - l_bound) / sum((sum(Y[(i,j)] for j in J)**2) for i in I) if sum((sum(Y[(i,j)] for j in J)**2) for i in I) != 0 else step_size\n",
    "    print(\"lambdas now:\", {n: lam[n][-1] for n in nodes})\n",
    "    return X, Y, l_bound, u_bound\n",
    "\n",
    "\n",
    "\n",
    "for i in range(10):\n",
    "\tX, Y, lb, ub = run_iteration(i)"
   ]
  },
  {
   "cell_type": "code",
   "execution_count": null,
   "id": "99882464",
   "metadata": {},
   "outputs": [
    {
     "name": "stdout",
     "output_type": "stream",
     "text": [
      "{0: 1, 1: 0, 2: 0, 3: 0, 4: 1, 5: 0}\n",
      "{(0, 0): 1, (0, 1): 0, (0, 2): 0, (0, 3): 0, (0, 4): 0, (0, 5): 0, (1, 0): 0, (1, 1): 0, (1, 2): 0, (1, 3): 0, (1, 4): 0, (1, 5): 0, (2, 0): 0, (2, 1): 0, (2, 2): 0, (2, 3): 0, (2, 4): 0, (2, 5): 0, (3, 0): 0, (3, 1): 0, (3, 2): 0, (3, 3): 0, (3, 4): 0, (3, 5): 0, (4, 0): 0, (4, 1): 0, (4, 2): 0, (4, 3): 0, (4, 4): 1, (4, 5): 0, (5, 0): 0, (5, 1): 0, (5, 2): 0, (5, 3): 0, (5, 4): 0, (5, 5): 0}\n"
     ]
    }
   ],
   "source": [
    "print(X)\n",
    "#print(Y)"
   ]
  },
  {
   "cell_type": "code",
   "execution_count": null,
   "id": "1d44c408",
   "metadata": {},
   "outputs": [],
   "source": []
  }
 ],
 "metadata": {
  "kernelspec": {
   "display_name": "base",
   "language": "python",
   "name": "python3"
  },
  "language_info": {
   "codemirror_mode": {
    "name": "ipython",
    "version": 3
   },
   "file_extension": ".py",
   "mimetype": "text/x-python",
   "name": "python",
   "nbconvert_exporter": "python",
   "pygments_lexer": "ipython3",
   "version": "3.10.10"
  }
 },
 "nbformat": 4,
 "nbformat_minor": 5
}
