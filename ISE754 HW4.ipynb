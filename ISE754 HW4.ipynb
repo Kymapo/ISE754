{
 "cells": [
  {
   "cell_type": "markdown",
   "id": "a6b3055e",
   "metadata": {},
   "source": [
    "# Problem 1"
   ]
  },
  {
   "cell_type": "code",
   "execution_count": null,
   "id": "91aed7cb",
   "metadata": {},
   "outputs": [],
   "source": [
    "coordinates = {1: (8.1, 1.6), 2: (8.9, 9.7), 3: (1.3, 9.6), 4: (9.1, 4.9), 5: (6.3, 8.0), \n",
    "               6: (1.0, 1.4), 7: (2.8, 4.2), 8: (5.5, 9.2), 9: (9.6, 7.9), 10: (9.6, 9.2)}\n"
   ]
  }
 ],
 "metadata": {
  "language_info": {
   "name": "python"
  }
 },
 "nbformat": 4,
 "nbformat_minor": 5
}
