{
 "cells": [
  {
   "cell_type": "markdown",
   "id": "a6b3055e",
   "metadata": {},
   "source": [
    "# Problem 1\n",
    "### a)"
   ]
  },
  {
   "cell_type": "code",
   "execution_count": 17,
   "id": "551f621c",
   "metadata": {},
   "outputs": [],
   "source": [
    "def distance(point1, point2):\n",
    "    \"\"\"Calculate the Euclidean distance between two points.\"\"\"\n",
    "    return ((point1[0] - point2[0]) ** 2 + (point1[1] - point2[1]) ** 2) ** 0.5"
   ]
  },
  {
   "cell_type": "code",
   "execution_count": null,
   "id": "3463c7e4",
   "metadata": {},
   "outputs": [],
   "source": [
    "coordinates = {1: (8.1, 1.6), 2: (8.9, 9.7), 3: (1.3, 9.6), 4: (9.1, 4.9), 5: (6.3, 8.0), \n",
    "               6: (1.0, 1.4), 7: (2.8, 4.2), 8: (5.5, 9.2), 9: (9.6, 7.9), 10: (9.6, 9.2)}\n"
   ]
  },
  {
   "cell_type": "code",
   "execution_count": null,
   "id": "91aed7cb",
   "metadata": {},
   "outputs": [
    {
     "name": "stdout",
     "output_type": "stream",
     "text": [
      "Tour order of visited nodes: [1, 4, 9, 10, 2, 5, 8, 3, 7, 6]\n",
      "Total distance traveled: 33.45341401323129\n"
     ]
    }
   ],
   "source": [
    "visited = [1]\n",
    "tot_distance = 0\n",
    "\n",
    "for node in range(len(coordinates) - 1):\n",
    "    distances = {}\n",
    "    current_node = visited[-1]\n",
    "    nearest_node = None\n",
    "    for pot_node in coordinates.keys():\n",
    "        if pot_node not in visited:\n",
    "            dist = distance(coordinates[current_node], coordinates[pot_node])\n",
    "            distances[pot_node] = dist\n",
    "    \n",
    "    nearest_node = min(distances, key=distances.get)\n",
    "    visited.append(nearest_node)\n",
    "    tot_distance += distances[nearest_node]\n",
    "\n",
    "tot_distance += distance(coordinates[visited[-1]], coordinates[visited[0]])\n",
    "\n",
    "print(\"Tour order of visited nodes:\", visited)\n",
    "print(\"Total distance traveled:\", tot_distance)"
   ]
  },
  {
   "cell_type": "markdown",
   "id": "f4392955",
   "metadata": {},
   "source": [
    "### b)"
   ]
  },
  {
   "cell_type": "code",
   "execution_count": 33,
   "id": "0f40de1c",
   "metadata": {},
   "outputs": [
    {
     "name": "stdout",
     "output_type": "stream",
     "text": [
      "4\n",
      "[1, 4]\n",
      "9\n",
      "[1, 9, 4]\n",
      "10\n",
      "[1, 10, 9, 4]\n",
      "2\n",
      "[1, 2, 10, 9, 4]\n",
      "5\n",
      "[1, 5, 2, 10, 9, 4]\n",
      "8\n",
      "[1, 5, 8, 2, 10, 9, 4]\n",
      "3\n",
      "[1, 5, 3, 8, 2, 10, 9, 4]\n",
      "7\n",
      "[1, 7, 5, 3, 8, 2, 10, 9, 4]\n",
      "6\n",
      "[1, 6, 7, 5, 3, 8, 2, 10, 9, 4]\n",
      "\n",
      "Tour order of visited nodes: [1, 6, 7, 5, 3, 8, 2, 10, 9, 4]\n",
      "Tour total distance: 37.15285257804944\n"
     ]
    }
   ],
   "source": [
    "visited2 = [1]\n",
    "tot_distance2 = 0\n",
    "\n",
    "for node in range(len(coordinates) - 1):\n",
    "    unvisited2 = set(coordinates.keys()) - set(visited2)\n",
    "\n",
    "    distances2 = {}\n",
    "    current_node2 = visited2[-1]\n",
    "    nearest_node2 = None\n",
    "    for pot_node2 in unvisited2:\n",
    "        distances2[pot_node2] = min(distance(coordinates[visited2[i]], coordinates[pot_node2]) for i in range(len(visited2)))\n",
    "    \n",
    "    nearest_node2 = min(distances2, key=distances2.get)\n",
    "    print(nearest_node2)\n",
    "\n",
    "    if len(visited2) == 1:\n",
    "        visited2.append(nearest_node2)\n",
    "        print(visited2)\n",
    "    else:\n",
    "        added_distance = {}\n",
    "        for j in range(len(visited2) - 1):\n",
    "            added_distance[j] = distance(coordinates[visited2[j]], coordinates[nearest_node2]) + distance(coordinates[visited2[j + 1]], coordinates[nearest_node2]) - distance(coordinates[visited2[j]], coordinates[visited2[j + 1]])\n",
    "        insert_position = min(added_distance, key=added_distance.get) + 1\n",
    "        visited2.insert(insert_position, nearest_node2)\n",
    "        print(visited2)\n",
    "\n",
    "for k in range(len(visited2) - 1):\n",
    "    tot_distance2 += distance(coordinates[visited2[k]], coordinates[visited2[k + 1]])\n",
    "tot_distance2 += distance(coordinates[visited2[-1]], coordinates[visited2[0]])\n",
    "\n",
    "print(\"\\nTour order of visited nodes:\", visited2)\n",
    "print(\"Tour total distance:\", tot_distance2)"
   ]
  },
  {
   "cell_type": "markdown",
   "id": "c602ceb5",
   "metadata": {},
   "source": [
    "# Problem 2"
   ]
  },
  {
   "cell_type": "code",
   "execution_count": 15,
   "id": "f20d61ca",
   "metadata": {},
   "outputs": [
    {
     "name": "stdout",
     "output_type": "stream",
     "text": [
      "Original tour: [1, 4, 7, 6, 3, 9, 5, 2, 10, 8]\n",
      "Distance: 49.19404121894179\n",
      "\n",
      "\n",
      "2-OPT Iterations:\n",
      "\n",
      "\n",
      "First improved tour: [1, 4, 7, 6, 3, 5, 9, 2, 10, 8]\n",
      "Distance: 44.7963711644954\n",
      "\n",
      "Second improved tour: [1, 4, 7, 6, 3, 5, 9, 10, 2, 8]\n",
      "Distance: 43.50161842840051\n",
      "\n",
      "\n",
      "3-OPT Iterations:\n",
      "\n",
      "\n",
      "First improved tour: [1, 4, 7, 6, 3, 8, 5, 9, 10, 2]\n",
      "Distance: 40.583489652521884\n",
      "\n",
      "Second improved tour: [4, 1, 7, 6, 3, 8, 5, 2, 10, 9]\n",
      "Distance: 34.85500998974111\n"
     ]
    }
   ],
   "source": [
    "tour = [1, 4, 7, 6, 3, 9, 5, 2, 10, 8]\n",
    "tour_distance = 0\n",
    "for m in range(len(tour) - 1):\n",
    "    tour_distance += distance(coordinates[tour[m]], coordinates[tour[m + 1]])\n",
    "tour_distance += distance(coordinates[tour[-1]], coordinates[tour[0]])\n",
    "print(\"Original tour:\", tour)\n",
    "print(\"Distance:\", tour_distance)\n",
    "\n",
    "## 2-opt\n",
    "print(\"\\n\\n2-OPT Iterations:\\n\")\n",
    "# First swap: (3,9) and (5,2)\n",
    "two_new_tour = [1, 4, 7, 6, 3, 5, 9, 2, 10, 8]\n",
    "two_new_tour_distance = 0\n",
    "for n in range(len(two_new_tour) - 1):\n",
    "    two_new_tour_distance += distance(coordinates[two_new_tour[n]], coordinates[two_new_tour[n + 1]])\n",
    "two_new_tour_distance += distance(coordinates[two_new_tour[-1]], coordinates[two_new_tour[0]])\n",
    "print()\n",
    "print(\"First improved tour:\", two_new_tour)\n",
    "print(\"Distance:\", two_new_tour_distance)\n",
    "\n",
    "# Second swap: (9,2) and (10,8)\n",
    "two_new_tour2 = [1, 4, 7, 6, 3, 5, 9, 10, 2, 8]\n",
    "two_new_tour2_distance = 0\n",
    "for p in range(len(two_new_tour2) - 1):\n",
    "    two_new_tour2_distance += distance(coordinates[two_new_tour2[p]], coordinates[two_new_tour2[p + 1]])\n",
    "two_new_tour2_distance += distance(coordinates[two_new_tour2[-1]], coordinates[two_new_tour2[0]])\n",
    "print()\n",
    "print(\"Second improved tour:\", two_new_tour2)\n",
    "print(\"Distance:\", two_new_tour2_distance)\n",
    "\n",
    "\n",
    "## 3-opt\n",
    "print(\"\\n\\n3-OPT Iterations:\\n\")\n",
    "# First swap: (3,9), (5,2), and (8,1)\n",
    "three_new_tour = [1, 4, 7, 6, 3, 8, 5, 9, 10, 2]\n",
    "three_new_tour_distance = 0\n",
    "for q in range(len(three_new_tour) - 1):\n",
    "    three_new_tour_distance += distance(coordinates[three_new_tour[q]], coordinates[three_new_tour[q + 1]])\n",
    "three_new_tour_distance += distance(coordinates[three_new_tour[-1]], coordinates[three_new_tour[0]])\n",
    "print()\n",
    "print(\"First improved tour:\", three_new_tour)\n",
    "print(\"Distance:\", three_new_tour_distance)\n",
    "\n",
    "# Second swap: (2,1), (5,9), and (4,7)\n",
    "three_new_tour2 = [4, 1, 7, 6, 3, 8, 5, 2, 10, 9]\n",
    "three_new_tour2_distance = 0\n",
    "for r in range(len(three_new_tour2) - 1):\n",
    "    three_new_tour2_distance += distance(coordinates[three_new_tour2[r]], coordinates[three_new_tour2[r + 1]])\n",
    "three_new_tour2_distance += distance(coordinates[three_new_tour2[-1]], coordinates[three_new_tour2[0]])\n",
    "print()\n",
    "print(\"Second improved tour:\", three_new_tour2)\n",
    "print(\"Distance:\", three_new_tour2_distance)"
   ]
  },
  {
   "cell_type": "markdown",
   "id": "7fa459f8",
   "metadata": {},
   "source": [
    "# Problem 3\n",
    "\n",
    "Merging 8 and 11 would violate the capacity constraint. \\\n",
    "Same with 8 and 10. \\\n",
    "2 and 3 will be merged. \\\n",
    "10 and 12 are already on the same route. \\\n",
    "So are 1 and 11. \\\n",
    "So are 7 and 9. \\\n",
    "5 and 6 will be merged. \\\n",
    "Merging 9 and 12 would violate the capacity constrant. \\\n",
    "Same with 1 and 3. \\\n",
    "Same with 8 and 12. \\\n",
    "3 and 4 will be merged (also with 2 now). \\\n",
    "Merging 2 and 12 would violate the capacity constraint. \\\n",
    "Same with 7 and 10. \\\n",
    "Same with 7 and 11. \\\n",
    "\\\n",
    "In summary, we only merge 2-3-4, and 5-6."
   ]
  },
  {
   "cell_type": "markdown",
   "id": "6e6288ff",
   "metadata": {},
   "source": [
    "# Problem 4"
   ]
  },
  {
   "cell_type": "code",
   "execution_count": 24,
   "id": "cf103d61",
   "metadata": {},
   "outputs": [],
   "source": [
    "cities = {\n",
    "    'Guangzhou': {'coords': (23.1300, 113.2590), 'd_i': 11071},\n",
    "    'Shanghai': {'coords': (31.2253, 121.4889), 'd_i': 22265},\n",
    "    'Beijing': {'coords': (39.9059, 116.3913), 'd_i': 19295},\n",
    "    'Shantou': {'coords': (23.3653, 116.6949), 'd_i': 1347},\n",
    "    'Chengdu': {'coords': (30.6766, 104.0613), 'd_i': 10358},\n",
    "    'Dongguan': {'coords': (23.0449, 113.7525), 'd_i': 11090},\n",
    "    'Hangzhou': {'coords': (30.2757, 120.1505), 'd_i': 7677},\n",
    "    'Wuhan': {'coords': (30.5960, 114.2993), 'd_i': 8221},\n",
    "    'Shenyang': {'coords': (41.8045, 123.4278), 'd_i': 6242},\n",
    "    \"Xi'an\": {'coords': (34.2192, 109.1102), 'd_i': 9781},\n",
    "    'Nanjing': {'coords': (32.0609, 118.7916), 'd_i': 0},\n",
    "    'Hong Kong': {'coords': (22.2793, 114.1628), 'd_i': 6501},\n",
    "    'Chongqing': {'coords': (29.5586, 106.5493), 'd_i': 7166},\n",
    "    'Quanzhou': {'coords': (24.9039, 118.5851), 'd_i': 7055},\n",
    "    'Wenzhou': {'coords': (28.0222, 120.6484), 'd_i': 7458},\n",
    "    'Qingdao': {'coords': (36.0895, 120.3497), 'd_i': 1398},\n",
    "    'Suzhou': {'coords': (31.2985, 120.6222), 'd_i': 3040},\n",
    "    'Harbin': {'coords': (45.7657, 126.6161), 'd_i': 4587},\n",
    "    'Qiqihar': {'coords': (47.3385, 123.9512), 'd_i': 5349},\n",
    "    'Xiamen': {'coords': (24.4974, 118.1356), 'd_i': 6705}\n",
    "}"
   ]
  },
  {
   "cell_type": "markdown",
   "id": "2b11b959",
   "metadata": {},
   "source": [
    "### a)"
   ]
  },
  {
   "cell_type": "code",
   "execution_count": 25,
   "id": "ad1c3abd",
   "metadata": {},
   "outputs": [
    {
     "name": "stdout",
     "output_type": "stream",
     "text": [
      "Final routes after Clarke-Wright Savings Algorithm: [['Guangzhou', 'Dongguan', 'Hong Kong', 'Shantou', 'Xiamen'], ['Shanghai', 'Suzhou'], [\"Xi'an\", 'Chengdu', 'Chongqing', 'Wuhan'], ['Quanzhou', 'Wenzhou', 'Hangzhou'], ['Qingdao', 'Shenyang', 'Harbin', 'Qiqihar', 'Beijing']]\n"
     ]
    }
   ],
   "source": [
    "routes = [[city] for city in cities if city != 'Nanjing']\n",
    "s_ij = {}\n",
    "route_capacity = 40000\n",
    "\n",
    "for i, city1 in enumerate(cities):\n",
    "    for j, city2 in enumerate(cities):\n",
    "        if i < j:\n",
    "            coord1 = cities[city1]['coords']\n",
    "            coord2 = cities[city2]['coords']\n",
    "            dist_i0 = distance(coord1, cities['Nanjing']['coords'])\n",
    "            dist_0j = distance(coord2, cities['Nanjing']['coords'])\n",
    "            dist_ij = distance(coord1, coord2)\n",
    "            s_ij[(city1, city2)] = dist_i0 + dist_0j - dist_ij\n",
    "\n",
    "sorted_s_ij = sorted(s_ij.items(), key=lambda item: item[1], reverse=True)\n",
    "#print(sorted_s_ij[:5])\n",
    "for (city1, city2), saving in sorted_s_ij:\n",
    "    if saving <= 0:\n",
    "        break\n",
    "    ## Find the routes that contain city1 and city2\n",
    "    route1 = next((route for route in routes if city1 in route), None)\n",
    "    route2 = next((route for route in routes if city2 in route), None)\n",
    "    route1_sum = sum(cities[city]['d_i'] for city in route1)\n",
    "    route2_sum = sum(cities[city]['d_i'] for city in route2)\n",
    "\n",
    "    if route1 != route2:\n",
    "        if route1_sum + route2_sum > route_capacity:\n",
    "            continue\n",
    "        if route1[-1] == city1 and route2[0] == city2:\n",
    "            route1.extend(route2)\n",
    "            routes.remove(route2)\n",
    "        elif route1[0] == city1 and route2[-1] == city2:\n",
    "            route2.extend(route1)\n",
    "            routes.remove(route1)\n",
    "        elif route1[0] == city1 and route2[0] == city2:\n",
    "            route2.reverse()\n",
    "            route2.extend(route1)\n",
    "            routes.remove(route1)\n",
    "        elif route1[-1] == city1 and route2[-1] == city2:\n",
    "            route1.extend(reversed(route2))\n",
    "            routes.remove(route2)\n",
    "print(\"Final routes after Clarke-Wright Savings Algorithm:\", routes)"
   ]
  },
  {
   "cell_type": "markdown",
   "id": "49d3c945",
   "metadata": {},
   "source": [
    "### b)"
   ]
  },
  {
   "cell_type": "code",
   "execution_count": null,
   "id": "fcfec97e",
   "metadata": {},
   "outputs": [],
   "source": []
  }
 ],
 "metadata": {
  "kernelspec": {
   "display_name": "base",
   "language": "python",
   "name": "python3"
  },
  "language_info": {
   "codemirror_mode": {
    "name": "ipython",
    "version": 3
   },
   "file_extension": ".py",
   "mimetype": "text/x-python",
   "name": "python",
   "nbconvert_exporter": "python",
   "pygments_lexer": "ipython3",
   "version": "3.10.10"
  }
 },
 "nbformat": 4,
 "nbformat_minor": 5
}
