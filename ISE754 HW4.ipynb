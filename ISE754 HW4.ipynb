{
 "cells": [
  {
   "cell_type": "markdown",
   "id": "a6b3055e",
   "metadata": {},
   "source": [
    "# Problem 1\n",
    "### a)"
   ]
  },
  {
   "cell_type": "code",
   "execution_count": 3,
   "id": "91aed7cb",
   "metadata": {},
   "outputs": [
    {
     "name": "stdout",
     "output_type": "stream",
     "text": [
      "Tour order of visited nodes: [1, 4, 9, 10, 2, 5, 8, 3, 7, 6]\n",
      "Total distance traveled: 33.45341401323129\n"
     ]
    }
   ],
   "source": [
    "coordinates = {1: (8.1, 1.6), 2: (8.9, 9.7), 3: (1.3, 9.6), 4: (9.1, 4.9), 5: (6.3, 8.0), \n",
    "               6: (1.0, 1.4), 7: (2.8, 4.2), 8: (5.5, 9.2), 9: (9.6, 7.9), 10: (9.6, 9.2)}\n",
    "\n",
    "\n",
    "def distance(point1, point2):\n",
    "    \"\"\"Calculate the Euclidean distance between two points.\"\"\"\n",
    "    return ((point1[0] - point2[0]) ** 2 + (point1[1] - point2[1]) ** 2) ** 0.5\n",
    "\n",
    "visited = [1]\n",
    "tot_distance = 0\n",
    "\n",
    "for node in range(len(coordinates) - 1):\n",
    "    distances = {}\n",
    "    current_node = visited[-1]\n",
    "    nearest_node = None\n",
    "    for pot_node in coordinates.keys():\n",
    "        if pot_node not in visited:\n",
    "            dist = distance(coordinates[current_node], coordinates[pot_node])\n",
    "            distances[pot_node] = dist\n",
    "    \n",
    "    nearest_node = min(distances, key=distances.get)\n",
    "    visited.append(nearest_node)\n",
    "    tot_distance += distances[nearest_node]\n",
    "\n",
    "tot_distance += distance(coordinates[visited[-1]], coordinates[visited[0]])\n",
    "\n",
    "print(\"Tour order of visited nodes:\", visited)\n",
    "print(\"Total distance traveled:\", tot_distance)"
   ]
  },
  {
   "cell_type": "markdown",
   "id": "f4392955",
   "metadata": {},
   "source": [
    "### b)"
   ]
  },
  {
   "cell_type": "code",
   "execution_count": 33,
   "id": "0f40de1c",
   "metadata": {},
   "outputs": [
    {
     "name": "stdout",
     "output_type": "stream",
     "text": [
      "4\n",
      "[1, 4]\n",
      "9\n",
      "[1, 9, 4]\n",
      "10\n",
      "[1, 10, 9, 4]\n",
      "2\n",
      "[1, 2, 10, 9, 4]\n",
      "5\n",
      "[1, 5, 2, 10, 9, 4]\n",
      "8\n",
      "[1, 5, 8, 2, 10, 9, 4]\n",
      "3\n",
      "[1, 5, 3, 8, 2, 10, 9, 4]\n",
      "7\n",
      "[1, 7, 5, 3, 8, 2, 10, 9, 4]\n",
      "6\n",
      "[1, 6, 7, 5, 3, 8, 2, 10, 9, 4]\n",
      "\n",
      "Tour order of visited nodes: [1, 6, 7, 5, 3, 8, 2, 10, 9, 4]\n",
      "Tour total distance: 37.15285257804944\n"
     ]
    }
   ],
   "source": [
    "visited2 = [1]\n",
    "tot_distance2 = 0\n",
    "\n",
    "for node in range(len(coordinates) - 1):\n",
    "    unvisited2 = set(coordinates.keys()) - set(visited2)\n",
    "\n",
    "    distances2 = {}\n",
    "    current_node2 = visited2[-1]\n",
    "    nearest_node2 = None\n",
    "    for pot_node2 in unvisited2:\n",
    "        distances2[pot_node2] = min(distance(coordinates[visited2[i]], coordinates[pot_node2]) for i in range(len(visited2)))\n",
    "    \n",
    "    nearest_node2 = min(distances2, key=distances2.get)\n",
    "    print(nearest_node2)\n",
    "\n",
    "    if len(visited2) == 1:\n",
    "        visited2.append(nearest_node2)\n",
    "        print(visited2)\n",
    "    else:\n",
    "        added_distance = {}\n",
    "        for j in range(len(visited2) - 1):\n",
    "            added_distance[j] = distance(coordinates[visited2[j]], coordinates[nearest_node2]) + distance(coordinates[visited2[j + 1]], coordinates[nearest_node2]) - distance(coordinates[visited2[j]], coordinates[visited2[j + 1]])\n",
    "        insert_position = min(added_distance, key=added_distance.get) + 1\n",
    "        visited2.insert(insert_position, nearest_node2)\n",
    "        print(visited2)\n",
    "\n",
    "for k in range(len(visited2) - 1):\n",
    "    tot_distance2 += distance(coordinates[visited2[k]], coordinates[visited2[k + 1]])\n",
    "tot_distance2 += distance(coordinates[visited2[-1]], coordinates[visited2[0]])\n",
    "\n",
    "print(\"\\nTour order of visited nodes:\", visited2)\n",
    "print(\"Tour total distance:\", tot_distance2)"
   ]
  },
  {
   "cell_type": "markdown",
   "id": "c602ceb5",
   "metadata": {},
   "source": [
    "# Problem 2"
   ]
  },
  {
   "cell_type": "markdown",
   "id": "7fa459f8",
   "metadata": {},
   "source": [
    "# Problem 3\n",
    "\n",
    "Merging 8 and 11 would violate the capacity constraint. \\\n",
    "Same with 8 and 10. \\\n",
    "2 and 3 will be merged. \\\n",
    "10 and 12 are already on the same route. \\\n",
    "So are 1 and 11. \\\n",
    "So are 7 and 9. \\\n",
    "5 and 6 will be merged. \\\n",
    "Merging 9 and 12 would violate the capacity constrant. \\\n",
    "Same with 1 and 3. \\\n",
    "Same with 8 and 12. \\\n",
    "3 and 4 will be merged (also with 2 now). \\\n",
    "Merging 2 and 12 would violate the capacity constraint. \\\n",
    "Same with 7 and 10. \\\n",
    "Same with 7 and 11. \\\n",
    "\\\n",
    "In summary, we only merge 2-3-4, and 5-6."
   ]
  },
  {
   "cell_type": "code",
   "execution_count": null,
   "id": "cf103d61",
   "metadata": {},
   "outputs": [],
   "source": []
  }
 ],
 "metadata": {
  "kernelspec": {
   "display_name": "Python 3",
   "language": "python",
   "name": "python3"
  },
  "language_info": {
   "codemirror_mode": {
    "name": "ipython",
    "version": 3
   },
   "file_extension": ".py",
   "mimetype": "text/x-python",
   "name": "python",
   "nbconvert_exporter": "python",
   "pygments_lexer": "ipython3",
   "version": "3.11.9"
  }
 },
 "nbformat": 4,
 "nbformat_minor": 5
}
